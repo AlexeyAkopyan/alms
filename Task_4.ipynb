{
 "cells": [
  {
   "cell_type": "markdown",
   "metadata": {},
   "source": [
    "# Линейная регрессия"
   ]
  },
  {
   "cell_type": "markdown",
   "metadata": {},
   "source": [
    "Данные содержатся в файле `data/lin_reg.txt`. Прочитать их можно следующим так:"
   ]
  },
  {
   "cell_type": "code",
   "execution_count": 15,
   "metadata": {},
   "outputs": [],
   "source": [
    "import numpy as np\n",
    "D = np.loadtxt('lin_reg.txt', delimiter=',')\n",
    "X = D[:, :-1]\n",
    "Y = D[:, -1]"
   ]
  },
  {
   "cell_type": "markdown",
   "metadata": {},
   "source": [
    "При выполнении заданий **нельзя** пользоваться `scikit-learn` и т.п., только `NumPy`/`JAX`/`TF`/`PyTorch` и `matplotlib`/`seaborn`/`plotly`/etc.\n",
    "\n",
    "1. Нарисуйте график среднеквадратичной ошибки в зависимости от параметра регуляризации $\\alpha$, используя полные данные для обучения и для тестирования. \n",
    "2. Подготовьте исходные данные для 5 fold CV.\n",
    "3. С помощью CV найдите оптимальное значение $\\alpha$ на какой-нибудь сетке значений.\n",
    "4. Постройте валидационную кривую. \n",
    "5. Постройте кривую обучения."
   ]
  },
  {
   "cell_type": "code",
   "execution_count": 16,
   "metadata": {},
   "outputs": [],
   "source": [
    "import torch"
   ]
  },
  {
   "cell_type": "code",
   "execution_count": 17,
   "metadata": {},
   "outputs": [],
   "source": [
    "from sklearn.model_selection import train_test_split\n",
    "X_train, X_test, y_train, y_test = train_test_split(X, Y, test_size = 0.2, shuffle=True, random_state=42)\n",
    "\n",
    "dtype = torch.get_default_dtype()\n",
    "t_X_train = torch.tensor(X_train, dtype=dtype)\n",
    "t_y_train = torch.tensor(y_train, dtype=dtype)\n",
    "\n",
    "t_X_test = torch.tensor(X_test, dtype=dtype)\n",
    "t_y_test = torch.tensor(y_test, dtype=dtype)"
   ]
  },
  {
   "cell_type": "code",
   "execution_count": 18,
   "metadata": {},
   "outputs": [],
   "source": [
    "class LinReg(torch.nn.Module):\n",
    "    def __init__(self, ndim):\n",
    "        super().__init__()\n",
    "        self.w = torch.nn.Parameter(torch.randn(ndim, 1, requires_grad=True))\n",
    "        self.b = torch.nn.Parameter(torch.randn(1,requires_grad=True))\n",
    "    \n",
    "    def forward(self, X):\n",
    "        return (X @ self.w + self.b).view(-1)"
   ]
  },
  {
   "cell_type": "code",
   "execution_count": 51,
   "metadata": {},
   "outputs": [],
   "source": [
    "alpha=0.1\n",
    "nepoch = 3000\n",
    "\n",
    "model = LinReg(t_X_train.shape[1])\n",
    "optim = torch.optim.SGD(params=model.parameters(), weight_decay=alpha, lr=0.001)\n",
    "floss = torch.nn.MSELoss()\n",
    "\n",
    "train_losses = []\n",
    "test_losses = []\n",
    "for i in range(nepoch):\n",
    "    optim.zero_grad()\n",
    "    t_y_pred = model(t_X_train)\n",
    "    loss = floss(t_y_train, t_y_pred)\n",
    "    loss.backward()\n",
    "    optim.step()\n",
    "    if (i + 1) % 50 == 0:\n",
    "        with torch.no_grad():\n",
    "            t_y_pred_ = model(t_X_test)\n",
    "            loss_ = floss(t_y_test, t_y_pred_)\n",
    "            train_losses.append(loss)\n",
    "            test_losses.append(loss_)\n"
   ]
  },
  {
   "cell_type": "code",
   "execution_count": 52,
   "metadata": {
    "scrolled": true
   },
   "outputs": [
    {
     "data": {
      "text/plain": [
       "<matplotlib.legend.Legend at 0x1f9a989a070>"
      ]
     },
     "execution_count": 52,
     "metadata": {},
     "output_type": "execute_result"
    },
    {
     "data": {
      "image/png": "[encoded data removed]",
      "text/plain": [
       "<Figure size 432x288 with 1 Axes>"
      ]
     },
     "metadata": {},
     "output_type": "display_data"
    }
   ],
   "source": [
    "from matplotlib import pyplot as plt\n",
    "import seaborn as sns\n",
    "sns.set()\n",
    "ticks = np.arange(len(train_losses))\n",
    "\n",
    "plt.plot(ticks, test_losses, label='test')\n",
    "plt.plot(ticks, train_losses, label='train')\n",
    "plt.grid(True)\n",
    "plt.legend()"
   ]
  },
  {
   "cell_type": "code",
   "execution_count": 21,
   "metadata": {},
   "outputs": [],
   "source": [
    "def KFold(size, n_splits=5, shuffle=True, random_state=None):\n",
    "    idxs = np.arange(0, size)\n",
    "    if shuffle:\n",
    "        np.random.seed(random_state)\n",
    "        np.random.shuffle(idxs)\n",
    "    splits = np.linspace(0, size, n_splits+1, dtype=np.int)\n",
    "    for i in range(n_splits):\n",
    "        yield (np.concatenate((idxs[0:splits[i]], idxs[splits[i+1]:])), idxs[splits[i]:splits[i+1]])# for i in range(n_splits))"
   ]
  },
  {
   "cell_type": "code",
   "execution_count": 38,
   "metadata": {
    "scrolled": true
   },
   "outputs": [
    {
     "name": "stdout",
     "output_type": "stream",
     "text": [
      "tensor(94.8432) tensor(95.9980)\n",
      "tensor(94.8547) tensor(95.9755)\n",
      "tensor(94.9090) tensor(96.1268)\n",
      "tensor(94.9978) tensor(96.0740)\n",
      "tensor(95.7390) tensor(96.7766)\n",
      "tensor(96.4409) tensor(97.3911)\n"
     ]
    }
   ],
   "source": [
    "train_losses = []\n",
    "test_losses = []\n",
    "nepoch = 5000\n",
    "models = []\n",
    "np.random\n",
    "params = [0, 0.01, 0.05, 0.1, 0.5, 1]\n",
    "\n",
    "for alpha in params:\n",
    "    cv_train_losses = []\n",
    "    cv_test_losses = []\n",
    "    folder = KFold(np.shape(X)[0], n_splits=5, shuffle = True, random_state=42)\n",
    "    \n",
    "    for train_idx, test_idx in folder:\n",
    "        X_train, X_test = X[train_idx], X[test_idx]\n",
    "        y_train, y_test = Y[train_idx], Y[test_idx]\n",
    "\n",
    "        t_X_train = torch.tensor(X_train, dtype=dtype)\n",
    "        t_y_train = torch.tensor(y_train, dtype=dtype)\n",
    "        t_X_test = torch.tensor(X_test, dtype=dtype)\n",
    "        t_y_test = torch.tensor(y_test, dtype=dtype)\n",
    "\n",
    "        model = LinReg(t_X_train.shape[1])\n",
    "        optim = torch.optim.SGD(params=model.parameters(), weight_decay=alpha, lr=0.001)\n",
    "        floss = torch.nn.MSELoss()\n",
    "\n",
    "        for i in range(nepoch):\n",
    "            optim.zero_grad()\n",
    "            t_y_pred = model(t_X_train)\n",
    "            loss = floss(t_y_train, t_y_pred)\n",
    "            loss.backward()\n",
    "            optim.step()\n",
    "            #if (i + 1) % 50 == 0:\n",
    "            #    with torch.no_grad():\n",
    "            #        t_y_pred_ = model(t_X_test)\n",
    "            #        loss_ = floss(t_y_test, t_y_pred_)\n",
    "            #        train_losses.append(loss)\n",
    "            #        test_losses.append(loss_)\n",
    "        with torch.no_grad():\n",
    "            cv_train_losses.append(floss(t_y_train, model(t_X_train)))\n",
    "            cv_test_losses.append(floss(t_y_test, model(t_X_test)))\n",
    "    train_losses.append(torch.mean(torch.tensor(cv_train_losses, dtype=dtype)))\n",
    "    test_losses.append(torch.mean(torch.tensor(cv_test_losses, dtype=dtype)))\n",
    "    print(train_losses[-1], test_losses[-1])\n",
    "    "
   ]
  },
  {
   "cell_type": "code",
   "execution_count": null,
   "metadata": {},
   "outputs": [],
   "source": []
  },
  {
   "cell_type": "code",
   "execution_count": null,
   "metadata": {},
   "outputs": [],
   "source": []
  }
 ],
 "metadata": {
  "kernelspec": {
   "display_name": "Python 3",
   "language": "python",
   "name": "python3"
  },
  "language_info": {
   "codemirror_mode": {
    "name": "ipython",
    "version": 3
   },
   "file_extension": ".py",
   "mimetype": "text/x-python",
   "name": "python",
   "nbconvert_exporter": "python",
   "pygments_lexer": "ipython3",
   "version": "3.8.5"
  }
 },
 "nbformat": 4,
 "nbformat_minor": 4
}
