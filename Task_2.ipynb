{
 "cells": [
  {
   "cell_type": "code",
   "execution_count": 1,
   "metadata": {},
   "outputs": [],
   "source": [
    "import numpy as np\n",
    "import scipy as sp\n",
    "import matplotlib.pyplot as plt\n",
    "import seaborn as sns\n",
    "\n",
    "%matplotlib inline"
   ]
  },
  {
   "cell_type": "markdown",
   "metadata": {},
   "source": [
    "# 1. Работа с массивами NumPy"
   ]
  },
  {
   "cell_type": "markdown",
   "metadata": {},
   "source": [
    "**N. Все упражнения ниже нужно делать без использования циклов Python**\n",
    "\n",
    "**1.** Cоздать вектор\n",
    "\n",
    "$$(2, \\frac{2^2}{2}, \\ldots, \\frac{2^{20}}{20})$$\n",
    "\n",
    "Можно использовать функции [np.arange()](http://docs.scipy.org/doc/numpy/reference/generated/numpy.arange.html), [np.ones()](http://docs.scipy.org/doc/numpy/reference/generated/numpy.ones.html)"
   ]
  },
  {
   "cell_type": "code",
   "execution_count": 6,
   "metadata": {},
   "outputs": [
    {
     "data": {
      "text/plain": [
       "array([2.00000000e+00, 2.00000000e+00, 2.66666667e+00, 4.00000000e+00,\n",
       "       6.40000000e+00, 1.06666667e+01, 1.82857143e+01, 3.20000000e+01,\n",
       "       5.68888889e+01, 1.02400000e+02, 1.86181818e+02, 3.41333333e+02,\n",
       "       6.30153846e+02, 1.17028571e+03, 2.18453333e+03, 4.09600000e+03,\n",
       "       7.71011765e+03, 1.45635556e+04, 2.75941053e+04, 5.24288000e+04])"
      ]
     },
     "execution_count": 6,
     "metadata": {},
     "output_type": "execute_result"
    }
   ],
   "source": [
    "## your code\n",
    "2 ** np.arange(1, 21) / np.arange(1, 21)"
   ]
  },
  {
   "cell_type": "markdown",
   "metadata": {},
   "source": [
    "**2.** Посчитать:\n",
    "\n",
    "$$\\sum\\limits_{i=0}^{5}{0.1^{3i}0.2^{4i}}$$\n"
   ]
  },
  {
   "cell_type": "code",
   "execution_count": 8,
   "metadata": {},
   "outputs": [
    {
     "data": {
      "text/plain": [
       "1.00000160000256"
      ]
     },
     "execution_count": 8,
     "metadata": {},
     "output_type": "execute_result"
    }
   ],
   "source": [
    "## your code\n",
    "np.sum(0.1 ** (3 * np.arange(6)) * 0.2 ** (4 * np.arange(6)))"
   ]
  },
  {
   "cell_type": "markdown",
   "metadata": {},
   "source": [
    "**3.** Создать нулевую матрицe $8 \\times 8$, и заполнить её единицами в шахматном порядке."
   ]
  },
  {
   "cell_type": "code",
   "execution_count": 15,
   "metadata": {},
   "outputs": [
    {
     "data": {
      "text/plain": [
       "array([[1., 0., 1., 0., 1., 0., 1., 0.],\n",
       "       [0., 1., 0., 1., 0., 1., 0., 1.],\n",
       "       [1., 0., 1., 0., 1., 0., 1., 0.],\n",
       "       [0., 1., 0., 1., 0., 1., 0., 1.],\n",
       "       [1., 0., 1., 0., 1., 0., 1., 0.],\n",
       "       [0., 1., 0., 1., 0., 1., 0., 1.],\n",
       "       [1., 0., 1., 0., 1., 0., 1., 0.],\n",
       "       [0., 1., 0., 1., 0., 1., 0., 1.]])"
      ]
     },
     "execution_count": 15,
     "metadata": {},
     "output_type": "execute_result"
    }
   ],
   "source": [
    "## your code\n",
    "a = np.zeros((8, 8))\n",
    "a[0::2, 0::2] = 1\n",
    "a[1::2, 1::2] = 1\n",
    "a"
   ]
  },
  {
   "cell_type": "markdown",
   "metadata": {},
   "source": [
    "**4.** Есть 5 точек в декартовой системе координат (в виде матрицы $X$ размерностью $5 \\times 2$), сконвертируйте эти точки в полярную систему координат."
   ]
  },
  {
   "cell_type": "code",
   "execution_count": 24,
   "metadata": {},
   "outputs": [
    {
     "data": {
      "text/plain": [
       "(array([[0.81799283, 0.7653215 ],\n",
       "        [0.16267089, 0.63302724],\n",
       "        [0.95626279, 0.84599592],\n",
       "        [0.6180711 , 0.03430071],\n",
       "        [0.8162486 , 0.33999057]]),\n",
       " array([0.7653215 , 0.63302724, 0.84599592, 0.03430071, 0.33999057]))"
      ]
     },
     "execution_count": 24,
     "metadata": {},
     "output_type": "execute_result"
    }
   ],
   "source": [
    "X = np.random.random((5, 2))"
   ]
  },
  {
   "cell_type": "code",
   "execution_count": 28,
   "metadata": {},
   "outputs": [
    {
     "data": {
      "text/plain": [
       "array([[0.97588425, 1.2012314 ],\n",
       "       [0.31141045, 0.21742916],\n",
       "       [0.51012436, 0.43454961],\n",
       "       [0.63163416, 0.54651952],\n",
       "       [0.81165097, 0.06490853]])"
      ]
     },
     "execution_count": 28,
     "metadata": {},
     "output_type": "execute_result"
    }
   ],
   "source": [
    "X = np.random.random((5, 2))\n",
    "\n",
    "## your code\n",
    "np.hstack((np.sqrt(X[:, 0] ** 2 + X[:, 1] ** 2).reshape(-1, 1), np.arctan(X[:, 1] / X[:, 0]).reshape(-1, 1)))"
   ]
  },
  {
   "cell_type": "markdown",
   "metadata": {},
   "source": [
    "**5.** Найдите индексы максимального элемента в случайной матрице $10 \\times 10$.\n",
    "\n",
    "Cм. [np.argmax()](http://docs.scipy.org/doc/numpy/reference/generated/numpy.argmax.html)."
   ]
  },
  {
   "cell_type": "code",
   "execution_count": 40,
   "metadata": {},
   "outputs": [
    {
     "data": {
      "text/plain": [
       "(3, 1)"
      ]
     },
     "execution_count": 40,
     "metadata": {},
     "output_type": "execute_result"
    }
   ],
   "source": [
    "#X = np.random.random((10, 10))\n",
    "\n",
    "## your code\n",
    "np.unravel_index(np.argmax(X), X.shape)"
   ]
  },
  {
   "cell_type": "markdown",
   "metadata": {},
   "source": [
    "**6.** Есть 10 точек ($X$) и ещё одна ($y$). Найти в $X$ ближайшую к $y$ точку."
   ]
  },
  {
   "cell_type": "code",
   "execution_count": 50,
   "metadata": {},
   "outputs": [
    {
     "data": {
      "text/plain": [
       "(array([[0.09601594, 0.11347273],\n",
       "        [0.94981396, 0.40200751],\n",
       "        [0.17911979, 0.23628732],\n",
       "        [0.94613282, 0.21177836],\n",
       "        [0.03009321, 0.86955739],\n",
       "        [0.4230272 , 0.64241683],\n",
       "        [0.790683  , 0.8201309 ],\n",
       "        [0.59686617, 0.52390222],\n",
       "        [0.49282342, 0.64533   ],\n",
       "        [0.1017316 , 0.55963815]]),\n",
       " array([[0.95434475, 0.25540079]]),\n",
       " array([0.94613282, 0.21177836]))"
      ]
     },
     "execution_count": 50,
     "metadata": {},
     "output_type": "execute_result"
    }
   ],
   "source": [
    "X = np.random.random((10, 2))\n",
    "y = np.random.random((1, 2))\n",
    "\n",
    "## your code\n",
    "X, y, X[np.argmin(np.linalg.norm(X - y, axis=1))]"
   ]
  },
  {
   "cell_type": "markdown",
   "metadata": {},
   "source": [
    "**7.** Дана функция:\n",
    "\n",
    "$$\n",
    " \\begin{cases}\n",
    "    x^2 + 2x + 6, & x < 0  \\\\\n",
    "    x + 6, & 0 \\le x \\le 2 \\\\\n",
    "    x^2 + 4x - 4, & x \\ge 2\n",
    " \\end{cases}\n",
    "$$\n",
    "\n",
    "Постройте массив из её значений на  $-3 \\le x \\le 3$."
   ]
  },
  {
   "cell_type": "code",
   "execution_count": 62,
   "metadata": {},
   "outputs": [
    {
     "data": {
      "image/png": "[encoded data removed]",
      "text/plain": [
       "<Figure size 432x288 with 1 Axes>"
      ]
     },
     "metadata": {
      "needs_background": "light"
     },
     "output_type": "display_data"
    }
   ],
   "source": [
    "## your code\n",
    "X1 = np.linspace(-3, 0, 30)[:-1]\n",
    "X2 = np.linspace(0, 2, 20)[:-1]\n",
    "X3 = np.linspace(2, 3, 10)\n",
    "Y = np.concatenate((X1 ** 2 + 2 * X1 + 6, X2 + 6, X3 ** 2 + 4 * X3 - 4))\n",
    "plt.plot(np.concatenate((X1, X2, X3)), Y);"
   ]
  },
  {
   "cell_type": "markdown",
   "metadata": {},
   "source": [
    "**8.** Из каждого элемента матрицы вычесть среднее арифметическое от всех элементов в соответствующей строке (после чего среднее значение каждой строки должно равняться нулю).\n",
    "\n",
    "Cм. [np.mean()](http://docs.scipy.org/doc/numpy/reference/generated/numpy.mean.html)."
   ]
  },
  {
   "cell_type": "code",
   "execution_count": 73,
   "metadata": {},
   "outputs": [
    {
     "data": {
      "text/plain": [
       "(array([[-0.50106442,  0.19207277, -0.03040948, -0.05319276, -0.30231001,\n",
       "         -0.3975956 ,  0.34275958,  0.40324771,  0.12175055,  0.22474165],\n",
       "        [ 0.24237455, -0.08270083,  0.16769073,  0.04786926,  0.19771458,\n",
       "         -0.39880191, -0.07788688, -0.24010016, -0.05695789,  0.20079856],\n",
       "        [-0.16701789,  0.36705356, -0.38588901, -0.30027354,  0.45302081,\n",
       "         -0.03882843,  0.24711537, -0.3491944 ,  0.25362219, -0.07960866],\n",
       "        [-0.24820812, -0.24681508,  0.21290173, -0.14612999,  0.41029831,\n",
       "          0.09905037,  0.38092026,  0.1485177 , -0.22981989, -0.38071529],\n",
       "        [-0.32467985,  0.20930004, -0.34860261,  0.20890197, -0.32025141,\n",
       "          0.18391964,  0.42046206,  0.20569152, -0.21050635, -0.02423501],\n",
       "        [ 0.33081443, -0.393142  , -0.16241067,  0.4388385 , -0.32783487,\n",
       "          0.08243265, -0.30094134, -0.19746994,  0.25596545,  0.27374779],\n",
       "        [-0.11171119,  0.33228654, -0.35073184,  0.06689438, -0.34074545,\n",
       "         -0.33018098, -0.07643199,  0.28826154,  0.11431429,  0.4080447 ],\n",
       "        [-0.29282486, -0.13767   ,  0.52754569,  0.30060644, -0.35427967,\n",
       "         -0.36712747,  0.03859469, -0.22168405,  0.49639678,  0.01044245],\n",
       "        [ 0.24026194, -0.32812994, -0.29887507,  0.06558974, -0.00947022,\n",
       "          0.22440523, -0.26228189,  0.36554749,  0.22270324, -0.21975052],\n",
       "        [ 0.17779541, -0.18801039, -0.55836941, -0.27064077,  0.29933754,\n",
       "          0.21276122,  0.35746169,  0.34297248, -0.24689571, -0.12641205]]),\n",
       " array([ 1.11022302e-17, -5.55111512e-17,  6.66133815e-17, -6.66133815e-17,\n",
       "         3.33066907e-17, -1.11022302e-17,  1.11022302e-17,  1.33226763e-16,\n",
       "        -2.22044605e-17, -2.22044605e-17]))"
      ]
     },
     "execution_count": 73,
     "metadata": {},
     "output_type": "execute_result"
    }
   ],
   "source": [
    "X = np.random.random((10, 10))\n",
    "\n",
    "## your code\n",
    "X - np.mean(X, axis=1).reshape(-1, 1), \\\n",
    "np.mean(X - np.mean(X, axis=1).reshape(-1, 1), axis=1)"
   ]
  },
  {
   "cell_type": "markdown",
   "metadata": {},
   "source": [
    "**9.** Есть массив из 1000 чисел, полученных из генератора случайных чисел, имеющий нормальное распределение. Посчитайте выборочное среднее и выборочную дисперсию. "
   ]
  },
  {
   "cell_type": "code",
   "execution_count": 75,
   "metadata": {},
   "outputs": [
    {
     "data": {
      "text/plain": [
       "(4.988751368511308, 4.014060943546341)"
      ]
     },
     "execution_count": 75,
     "metadata": {},
     "output_type": "execute_result"
    }
   ],
   "source": [
    "X = np.random.normal(loc=5, scale=2., size=1000)\n",
    "np.mean(X), np.var(X)"
   ]
  },
  {
   "cell_type": "markdown",
   "metadata": {},
   "source": [
    "**10.** Создать матрицу:\n",
    "\n",
    "$$\n",
    "\\begin{pmatrix}\n",
    "0 & 1 & 2 & 3 & 4 \\\\\n",
    "1 & 2 & 3 & 4 & 0 \\\\\n",
    "2 & 3 & 4 & 0 & 1 \\\\\n",
    "3 & 4 & 0 & 1 & 2 \\\\\n",
    "4 & 0 & 1 & 2 & 3\n",
    "\\end{pmatrix}\n",
    "$$"
   ]
  },
  {
   "cell_type": "code",
   "execution_count": 40,
   "metadata": {},
   "outputs": [
    {
     "data": {
      "text/plain": [
       "array([[0., 1., 2., 3., 4.],\n",
       "       [1., 2., 3., 4., 0.],\n",
       "       [2., 3., 4., 0., 1.],\n",
       "       [3., 4., 0., 1., 2.],\n",
       "       [4., 0., 1., 2., 3.]])"
      ]
     },
     "execution_count": 40,
     "metadata": {},
     "output_type": "execute_result"
    }
   ],
   "source": [
    "## your code\n",
    "np.fromfunction(lambda i, j: i + j, (5, 5)) % 5"
   ]
  },
  {
   "cell_type": "markdown",
   "metadata": {},
   "source": [
    "**11.** Есть следующий алгоритм семплинирования, на вход функции подается вектор из целых положительных чисел и число семплов."
   ]
  },
  {
   "cell_type": "code",
   "execution_count": 137,
   "metadata": {},
   "outputs": [
    {
     "data": {
      "text/plain": [
       "[0, 1, 0, 0, 0]"
      ]
     },
     "execution_count": 137,
     "metadata": {},
     "output_type": "execute_result"
    }
   ],
   "source": [
    "def sample(x, c):\n",
    "    assert len(x) > 0\n",
    "    \n",
    "    s = np.sum(x)\n",
    "    res = []\n",
    "    for _ in range(c):\n",
    "        val = s * np.random.random()\n",
    "        cur, idx = 0, 0        \n",
    "        while cur + x[idx] <= val:\n",
    "            cur += x[idx]\n",
    "            idx += 1\n",
    "            \n",
    "        res.append(idx)\n",
    "    return res\n",
    "\n",
    "            \n",
    "sample([50, 3, 1, 7, 20], 5)    "
   ]
  },
  {
   "cell_type": "markdown",
   "metadata": {},
   "source": [
    "Реализуйте данный алгоритм более оптимальным способом, без использования циклов."
   ]
  },
  {
   "cell_type": "code",
   "execution_count": null,
   "metadata": {},
   "outputs": [],
   "source": [
    "def sample_2(x, c, vals):\n",
    "    assert len(x) > 0\n",
    "    s = np.sum(x)\n",
    "    res = []\n",
    "    vals = s * np.random.random(c)\n",
    "    V = np.sum(np.tril(np.ones((5,5))) * x, axis=1, dtype=int).reshape(-1, 1)\n",
    "    return np.sum(np.less_equal(V, vals), axis=0)"
   ]
  },
  {
   "cell_type": "code",
   "execution_count": 77,
   "metadata": {},
   "outputs": [],
   "source": [
    "# Test\n",
    "\n",
    "def sample(x, c):\n",
    "    assert len(x) > 0\n",
    "    vals = []\n",
    "    s = np.sum(x)\n",
    "    res = []\n",
    "    for _ in range(c):\n",
    "        val = s * np.random.random()\n",
    "        vals.append(val)\n",
    "        cur, idx = 0, 0        \n",
    "        while cur + x[idx] <= val:\n",
    "            cur += x[idx]\n",
    "            idx += 1\n",
    "            \n",
    "        res.append(idx)\n",
    "    return res, vals\n",
    "\n",
    "def sample_2(x, c, vals):\n",
    "    assert len(x) > 0\n",
    "    s = np.sum(x)\n",
    "    res = []\n",
    "    #vals = s * np.random.random(c)\n",
    "    V = np.sum(np.tril(np.ones((5,5))) * x, axis=1, dtype=int).reshape(-1, 1)\n",
    "    return list(np.sum(np.less_equal(V, vals), axis=0))\n",
    "\n",
    "def test():\n",
    "    for _ in range(1000):\n",
    "        x = np.random.randint(1, 100, 20)\n",
    "        c = 20\n",
    "        s1, vals = sample(A, c)\n",
    "        s2 = sample_2(A, c, vals)\n",
    "        assert s1 == s2"
   ]
  },
  {
   "cell_type": "code",
   "execution_count": 78,
   "metadata": {},
   "outputs": [],
   "source": [
    "test()"
   ]
  },
  {
   "cell_type": "code",
   "execution_count": null,
   "metadata": {},
   "outputs": [],
   "source": []
  }
 ],
 "metadata": {
  "kernelspec": {
   "display_name": "Python 3",
   "language": "python",
   "name": "python3"
  },
  "language_info": {
   "codemirror_mode": {
    "name": "ipython",
    "version": 3
   },
   "file_extension": ".py",
   "mimetype": "text/x-python",
   "name": "python",
   "nbconvert_exporter": "python",
   "pygments_lexer": "ipython3",
   "version": "3.8.5"
  }
 },
 "nbformat": 4,
 "nbformat_minor": 4
}
