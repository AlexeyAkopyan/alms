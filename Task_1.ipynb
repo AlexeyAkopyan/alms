{
 "cells": [
  {
   "cell_type": "markdown",
   "metadata": {},
   "source": [
    "# Задание 1\n",
    "\n",
    "[Свертка списка](https://ru.wikipedia.org/wiki/%D0%A1%D0%B2%D1%91%D1%80%D1%82%D0%BA%D0%B0_%D1%81%D0%BF%D0%B8%D1%81%D0%BA%D0%B0) -  это обобщенная операция над списком, c помощью которой можно преобразовать список в единое значение. Например, рассмотрим реализации свертки слева и свертки справа (левоассоциативную свертку и правоассоциативную свертку):"
   ]
  },
  {
   "cell_type": "code",
   "execution_count": 2,
   "metadata": {
    "jupyter": {
     "outputs_hidden": true
    }
   },
   "outputs": [],
   "source": [
    "def foldl(f, x0, lst):\n",
    "    if not lst:\n",
    "        return x0\n",
    "    return foldl(f, f(x0, lst[0]), lst[1:])\n",
    "\n",
    "def foldr(f, x0, lst):\n",
    "    if not lst:\n",
    "        return x0\n",
    "    return f(lst[0], foldr(f, x0, lst[1:]))"
   ]
  },
  {
   "cell_type": "code",
   "execution_count": 3,
   "metadata": {},
   "outputs": [
    {
     "data": {
      "text/plain": [
       "6"
      ]
     },
     "execution_count": 3,
     "metadata": {},
     "output_type": "execute_result"
    }
   ],
   "source": [
    "#сумма\n",
    "foldl(lambda x, y: x + y, 0, [1, 2, 3])"
   ]
  },
  {
   "cell_type": "code",
   "execution_count": 4,
   "metadata": {},
   "outputs": [
    {
     "data": {
      "text/plain": [
       "'123'"
      ]
     },
     "execution_count": 4,
     "metadata": {},
     "output_type": "execute_result"
    }
   ],
   "source": [
    "#конкатенация\n",
    "foldl(lambda x, y: '{}{}'.format(x, y), '', [1, 2, 3])"
   ]
  },
  {
   "cell_type": "code",
   "execution_count": 21,
   "metadata": {},
   "outputs": [
    {
     "data": {
      "text/plain": [
       "(0.16666666666666666, 1.5)"
      ]
     },
     "execution_count": 21,
     "metadata": {},
     "output_type": "execute_result"
    }
   ],
   "source": [
    "f = lambda x, y: x / y\n",
    "foldl(f, 1, [1, 2, 3]), \\\n",
    "foldr(f, 1, [1, 2, 3])"
   ]
  },
  {
   "cell_type": "markdown",
   "metadata": {},
   "source": [
    "Задача: реализовать foldl через foldr и наоборот. Вместо многоточий нужно вставить выражения, которые бы привели к нужному результату. Модифицировать сам список нельзя. "
   ]
  },
  {
   "cell_type": "code",
   "execution_count": 26,
   "metadata": {},
   "outputs": [],
   "source": [
    "def foldl2(f, x0, lst):\n",
    "    return foldr(lambda a, b: lambda c: b(f(c, a)), lambda x: x, lst)(x0)"
   ]
  },
  {
   "cell_type": "code",
   "execution_count": 27,
   "metadata": {},
   "outputs": [
    {
     "data": {
      "text/plain": [
       "(6, '123', 0.16666666666666666)"
      ]
     },
     "execution_count": 27,
     "metadata": {},
     "output_type": "execute_result"
    }
   ],
   "source": [
    "foldl2(lambda x, y: x + y, 0, [1, 2, 3]), \\\n",
    "foldl2(lambda x, y: '{}{}'.format(x, y), '', [1, 2, 3]), \\\n",
    "foldl2(f, 1, [1, 2, 3])"
   ]
  },
  {
   "cell_type": "code",
   "execution_count": 28,
   "metadata": {},
   "outputs": [],
   "source": [
    "def foldr2(f, x0, lst):\n",
    "    return foldl(lambda a, b: lambda c: a(f(b, c)), lambda x: x, lst)(x0)"
   ]
  },
  {
   "cell_type": "code",
   "execution_count": 29,
   "metadata": {},
   "outputs": [
    {
     "data": {
      "text/plain": [
       "(6, '123', 1.5)"
      ]
     },
     "execution_count": 29,
     "metadata": {},
     "output_type": "execute_result"
    }
   ],
   "source": [
    "foldr2(lambda x, y: x + y, 0, [1, 2, 3]), \\\n",
    "foldr2(lambda x, y: '{}{}'.format(x, y), '', [1, 2, 3]), \\\n",
    "foldr2(f, 1, [1, 2, 3])"
   ]
  },
  {
   "cell_type": "markdown",
   "metadata": {},
   "source": [
    "# Задание 2\n",
    "\n",
    "нужно написать функцию, которая принимает две строки и проверяет, входит ли хотя бы одна перестановка второй строки в первую. Например:\n",
    "\n",
    "> a = 'abcrotm'\n",
    "> \n",
    "> b = 'tro'\n",
    "\n",
    "функция def check_inv(a, b) вернет True, так как 'rot' содержится в 'abcrotm'. Нужно подумать как можно более оптимальный алгоритм и оценить его сложность. "
   ]
  },
  {
   "cell_type": "code",
   "execution_count": 21,
   "metadata": {
    "jupyter": {
     "outputs_hidden": true
    }
   },
   "outputs": [],
   "source": [
    "# O(len(a) * len(b))\n",
    "def check_inv(a, b):\n",
    "    chars = list(b)\n",
    "    c = ''\n",
    "    while a:\n",
    "        while a and a[0] not in chars:\n",
    "            a = a[1:]\n",
    "        while a and chars and a[0] in chars:\n",
    "            if a[0] : \n",
    "            chars.remove(a[0])\n",
    "            c = a[0] + c\n",
    "            a = a[1:]\n",
    "        if not chars:\n",
    "            return True\n",
    "        if not a:\n",
    "            return False\n",
    "        \n",
    "        a = c[1:] + a \n",
    "        chars = list(b)\n",
    "        \n",
    "        \n",
    "            "
   ]
  },
  {
   "cell_type": "markdown",
   "metadata": {},
   "source": [
    "# Задание 3\n",
    "\n",
    "Реализовать бинарное дерево (класс Tree), в нём методы __repr__, __str__, __iter__ (итерация только по листьям)."
   ]
  },
  {
   "cell_type": "code",
   "execution_count": 244,
   "metadata": {},
   "outputs": [
    {
     "name": "stdout",
     "output_type": "stream",
     "text": [
      "True\n",
      "0\n",
      "├──1\n",
      "│  ├──3\n",
      "│  └──4\n",
      "└──2\n"
     ]
    },
    {
     "data": {
      "text/plain": [
       "Tree(0, Tree(1, Tree(3), Tree(4)), Tree(2))"
      ]
     },
     "execution_count": 244,
     "metadata": {},
     "output_type": "execute_result"
    }
   ],
   "source": [
    "import re\n",
    "class Tree:\n",
    "    def __init__(self, value=None, left=None, right=None):\n",
    "        self.left = left\n",
    "        self.right = right\n",
    "        self.value = value\n",
    "        \n",
    "    def __iter__(self):\n",
    "        if not self.left and not self.right:\n",
    "            yield self.value\n",
    "            \n",
    "        if self.left:\n",
    "            for leaf in list(self.left):\n",
    "                yield leaf\n",
    "                \n",
    "        if self.right:\n",
    "            for leaf in list(self.right):\n",
    "                yield leaf\n",
    "    \n",
    "    def __str__(self):\n",
    "        st = str(self.value)\n",
    "        if self.left and self.right:\n",
    "            st += '\\n├──' + re.sub('\\n', '\\n│  ', str(self.left))\n",
    "            st += '\\n└──' + re.sub('\\n', '\\n   ', str(self.right))\n",
    "        elif self.left:\n",
    "            st += '\\n└──' + re.sub('\\n', '\\n   ', str(self.left))\n",
    "        elif self.right:\n",
    "            st += '\\n└──' + re.sub('\\n', '\\n   ', str(self.right))\n",
    "        return st\n",
    "    def __repr__(self):\n",
    "        return \"Tree({}{})\".format(self.value, ''.join([', ' + leaf.__repr__() for leaf in [self.left, self.right] if leaf]))\n",
    "    \n",
    "tree = Tree(0, Tree(1, Tree(3), Tree(4)),                             \n",
    "               Tree(2))\n",
    "\n",
    "print(list(tree) == [3, 4, 2])\n",
    "\n",
    "print(tree)\n",
    "\n",
    "tree"
   ]
  },
  {
   "cell_type": "code",
   "execution_count": 246,
   "metadata": {},
   "outputs": [
    {
     "name": "stdout",
     "output_type": "stream",
     "text": [
      "0\n",
      "├──1\n",
      "│  ├──3\n",
      "│  │  ├──7\n",
      "│  │  │  ├──15\n",
      "│  │  │  └──16\n",
      "│  │  └──8\n",
      "│  │     ├──17\n",
      "│  │     └──18\n",
      "│  └──4\n",
      "│     ├──9\n",
      "│     │  ├──19\n",
      "│     │  └──20\n",
      "│     └──10\n",
      "│        ├──21\n",
      "│        └──22\n",
      "└──2\n",
      "   ├──5\n",
      "   │  ├──11\n",
      "   │  │  ├──23\n",
      "   │  │  └──24\n",
      "   │  └──12\n",
      "   │     ├──25\n",
      "   │     └──26\n",
      "   └──6\n",
      "      ├──13\n",
      "      │  ├──27\n",
      "      │  └──28\n",
      "      └──14\n",
      "         ├──29\n",
      "         └──30\n"
     ]
    },
    {
     "data": {
      "text/plain": [
       "[15, 16, 17, 18, 19, 20, 21, 22, 23, 24, 25, 26, 27, 28, 29, 30]"
      ]
     },
     "execution_count": 246,
     "metadata": {},
     "output_type": "execute_result"
    }
   ],
   "source": [
    "#tree = Tree(1, Tree(2, Tree(3, Tree(4, Tree(5, Tree(6, Tree(7, Tree(8), Tree(9))), Tree(10))), Tree(11, Tree(12, Tree(13, Tree(14, Tree(15), Tree(16))), Tree(17, Tree(18, Tree(19), Tree(20))))))), Tree(21))\n",
    "tree = Tree(0, Tree(1, Tree(3, Tree(7, Tree(15), Tree(16)), Tree(8, Tree(17), Tree(18))), Tree(4, Tree(9, Tree(19), Tree(20)), Tree(10, Tree(21), Tree(22)))), Tree(2, Tree(5, Tree(11, Tree(23), Tree(24)), Tree(12, Tree(25), Tree(26))), Tree(6, Tree(13, Tree(27), Tree(28)), Tree(14, Tree(29), Tree(30)))))\n",
    "print(tree)\n",
    "list(tree)"
   ]
  },
  {
   "cell_type": "markdown",
   "metadata": {},
   "source": [
    "# Задание 4\n",
    "\n",
    "Реализовать простейший калькулятор математических выражений:\n",
    "- только целые числа\n",
    "- **+**, **\\-**, **\\***, **\\**\n",
    "- скобки\n",
    "\n",
    "**Можно использовать регулярные выражения**"
   ]
  },
  {
   "cell_type": "code",
   "execution_count": 141,
   "metadata": {},
   "outputs": [
    {
     "data": {
      "text/plain": [
       "True"
      ]
     },
     "execution_count": 141,
     "metadata": {},
     "output_type": "execute_result"
    }
   ],
   "source": [
    "# Предполагается, что в выражении нет ошибок\n",
    "from operator import add, sub, mul, floordiv, truediv\n",
    "import re\n",
    "\n",
    "digits = [str(d) for d in range(10)]\n",
    "operators = {'+': add, '-': sub, '*': mul, '/': truediv} #'/': floordiv\n",
    "\n",
    "def find_closing_bracket(expr, start):\n",
    "    n_open_brackets = 1\n",
    "    for i in range(start, len(expr)):\n",
    "        if expr[i] == '(':\n",
    "            n_open_brackets += 1\n",
    "        elif expr[i] == ')':\n",
    "            n_open_brackets -= 1\n",
    "            if n_open_brackets == 0:\n",
    "                return i\n",
    "            \n",
    "def calc(expr):\n",
    "    expr = re.sub(' ', '', expr)\n",
    "    if expr[0] == '-':\n",
    "        # -a = 0 - a\n",
    "        i = 1\n",
    "        nums = [0, 0] # числа\n",
    "        opers = ['-'] # операции \n",
    "    else:\n",
    "        i = 0\n",
    "        nums = [0]\n",
    "        opers = []\n",
    "    while i < len(expr):\n",
    "        # собираем все числа и все операторы \n",
    "        if expr[i] in digits: \n",
    "            nums[-1] = nums[-1] * 10 + int(expr[i])\n",
    "            \n",
    "        elif expr[i] in operators.keys():\n",
    "            opers.append(expr[i])\n",
    "            nums.append(0)\n",
    "            \n",
    "        elif expr[i] == '(':\n",
    "            # выражения в скобках вычисляются рекурсивно\n",
    "            next_i = find_closing_bracket(expr, i+1)\n",
    "            nums[-1] = calc(expr[i+1 : next_i])\n",
    "            i = next_i\n",
    "        \n",
    "        i += 1\n",
    "\n",
    "    if len(nums) - len(opers) == 1:\n",
    "        i = 0\n",
    "        l = len(opers)\n",
    "        while i < l:\n",
    "            #сначала слева направо вычисляются все умножения и деления\n",
    "            if opers[i] in ['*', '/']:\n",
    "                nums.insert(i, operators[opers.pop(i)](nums.pop(i), nums.pop(i)))\n",
    "                l -= 1\n",
    "            else:\n",
    "                i += 1\n",
    "        \n",
    "        while opers:\n",
    "            # затем слева направо вычисляются все сложения и вычитания\n",
    "            nums.insert(0, operators[opers.pop(0)](nums.pop(0), nums.pop(0)))\n",
    "    return nums[0]\n",
    "        \n",
    "    \n",
    "              \n",
    "    \n",
    "\n",
    "calc('2 * (15 - 3 * 4) - 2') == 4"
   ]
  }
 ],
 "metadata": {
  "kernelspec": {
   "display_name": "Python 3",
   "language": "python",
   "name": "python3"
  },
  "language_info": {
   "codemirror_mode": {
    "name": "ipython",
    "version": 3
   },
   "file_extension": ".py",
   "mimetype": "text/x-python",
   "name": "python",
   "nbconvert_exporter": "python",
   "pygments_lexer": "ipython3",
   "version": "3.8.5"
  }
 },
 "nbformat": 4,
 "nbformat_minor": 4
}
