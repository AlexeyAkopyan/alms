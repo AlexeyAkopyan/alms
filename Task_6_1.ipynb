{
 "cells": [
  {
   "cell_type": "markdown",
   "metadata": {},
   "source": [
    "## Данные\n",
    "\n",
    "Данные в [архиве](https://drive.google.com/file/d/15o7fdxTgndoy6K-e7g8g1M2-bOOwqZPl/view?usp=sharing). В нём два файла:\n",
    "- `news_train.txt` тренировочное множество\n",
    "- `news_test.txt` тренировочное множество\n",
    "\n",
    "С некоторых новостных сайтов были загружены тексты новостей за период  несколько лет, причем каждая новость принаделжит к какой-то рубрике: `science`, `style`, `culture`, `life`, `economics`, `business`, `travel`, `forces`, `media`, `sport`.\n",
    "\n",
    "В каждой строке файла содержится метка рубрики, заголовок новостной статьи и сам текст статьи, например:\n",
    "\n",
    ">    **sport**&nbsp;&lt;tab&gt;&nbsp;**Сборная Канады по хоккею разгромила чехов**&nbsp;&lt;tab&gt;&nbsp;**Сборная Канады по хоккею крупно об...**"
   ]
  },
  {
   "cell_type": "markdown",
   "metadata": {},
   "source": [
    "# Задача\n",
    "\n",
    "1. Обработать данные, получив для каждого текста набор токенов\n",
    "Обработать токены с помощью (один вариант из трех):\n",
    "    - pymorphy2\n",
    "    - русского [snowball стеммера](https://www.nltk.org/howto/stem.html)\n",
    "    - [SentencePiece](https://github.com/google/sentencepiece) или [Huggingface Tokenizers](https://github.com/huggingface/tokenizers)\n",
    "    \n",
    "    \n",
    "2. Обучить word embeddings (fastText, word2vec, gloVe) на тренировочных данных. Можно использовать [gensim](https://radimrehurek.com/gensim/models/word2vec.html) . Продемонстрировать семантические ассоциации. \n",
    "\n",
    "3. Реализовать алгоритм классификации, посчитать точноть на тестовых данных, подобрать гиперпараметры. Метод векторизации выбрать произвольно - можно использовать $tf-idf$ с понижением размерности (см. scikit-learn), можно использовать обученные на предыдущем шаге векторные представления, можно использовать [предобученные модели](https://rusvectores.org/ru/models/). Имейте ввиду, что простое \"усреднение\" токенов в тексте скорее всего не даст положительных результатов. Нужно реализовать два алгоритмов из трех:\n",
    "     - SVM\n",
    "     - наивный байесовский классификатор\n",
    "     - логистическая регрессия\n",
    "    \n",
    "\n",
    "4.* Реализуйте классификацию с помощью нейросетевых моделей. Например [RuBERT](http://docs.deeppavlov.ai/en/master/features/models/bert.html) или [ELMo](https://rusvectores.org/ru/models/)."
   ]
  },
  {
   "cell_type": "code",
   "execution_count": null,
   "metadata": {},
   "outputs": [],
   "source": [
    "'https://drive.google.com/file/d/1mG3tPS_59pANrgwd6T2IgnHWgph4vYbg/view?usp=sharing'"
   ]
  },
  {
   "cell_type": "code",
   "execution_count": 1,
   "metadata": {},
   "outputs": [],
   "source": [
    "lines_train = list(open('../data/news_train.txt', 'r', encoding='utf-8'))"
   ]
  },
  {
   "cell_type": "code",
   "execution_count": 6,
   "metadata": {},
   "outputs": [],
   "source": [
    "lines_test = list(open('../data/news_test.txt', 'r', encoding='utf-8'))"
   ]
  },
  {
   "cell_type": "code",
   "execution_count": 8,
   "metadata": {},
   "outputs": [],
   "source": [
    "import numpy as np\n",
    "from collections import Counter\n",
    "import re\n",
    "import pymorphy2\n",
    "from tqdm.notebook import tqdm, trange"
   ]
  },
  {
   "cell_type": "code",
   "execution_count": 4,
   "metadata": {},
   "outputs": [],
   "source": [
    "import re\n",
    "morph = pymorphy2.MorphAnalyzer()\n",
    "\n",
    "def preprocessing(text):\n",
    "    text = text.lower()\n",
    "    text = re.sub('[^а-я ]', '', text) # оставляем только русские буквы и пробел\n",
    "    #text = [morph.parse(word)[0].normal_form for word in text.split()] # лемматнитизация\n",
    "    return text"
   ]
  },
  {
   "cell_type": "code",
   "execution_count": 11,
   "metadata": {},
   "outputs": [],
   "source": [
    "def parse(lines, preprocess=False):\n",
    "    targets = []\n",
    "    titles = []\n",
    "    texts = []\n",
    "    for i in trange(len(lines)):\n",
    "        target, title, text = lines[i].split('\\t')\n",
    "        targets.append(target)\n",
    "        if preprocess:\n",
    "            titles.append(preprocessing(title))\n",
    "            texts.append(preprocessing(text))\n",
    "        else:\n",
    "            if text[-1] == '\\n':\n",
    "                text = text[:-1]\n",
    "            titles.append(title.split())\n",
    "            texts.append(text.split())\n",
    "\n",
    "    return targets, titles, texts"
   ]
  },
  {
   "cell_type": "code",
   "execution_count": 12,
   "metadata": {},
   "outputs": [
    {
     "data": {
      "application/vnd.jupyter.widget-view+json": {
       "model_id": "5274db96044845b2be2d65c52498ec61",
       "version_major": 2,
       "version_minor": 0
      },
      "text/plain": [
       "HBox(children=(FloatProgress(value=0.0, max=3000.0), HTML(value='')))"
      ]
     },
     "metadata": {},
     "output_type": "display_data"
    },
    {
     "name": "stdout",
     "output_type": "stream",
     "text": [
      "\n"
     ]
    }
   ],
   "source": [
    "#targets, titles, texts = parse(lines_train, preprocess=True)\n",
    "data_test = parse(lines_test, preprocess=True)"
   ]
  },
  {
   "cell_type": "code",
   "execution_count": 13,
   "metadata": {},
   "outputs": [],
   "source": [
    "with open('../data/preprocessed_news_train.txt', 'w', encoding='utf-8') as file:\n",
    "    file.write('\\n'.join([target + '\\t' + ' '.join(title) + '\\t' + ' '.join(text) \\\n",
    "                     for target, title, text in zip(targets, titles, texts)]))\n",
    "    \n",
    "with open('../data/preprocessed_news_test.txt', 'w', encoding='utf-8') as file:\n",
    "    file.write('\\n'.join([data_test[0][i] + '\\t' + ' '.join(data_test[1][i]) + '\\t' + ' '.join(data_test[2][i]) \\\n",
    "                     for i in range(np.shape(data_test)[1])]))"
   ]
  },
  {
   "cell_type": "code",
   "execution_count": 5,
   "metadata": {},
   "outputs": [],
   "source": [
    "with open('../data/preprocessed_news_train.txt', 'r', encoding='utf-8') as file:\n",
    "    lines_train = file.readlines()\n",
    "    \n",
    "with open('../data/preprocessed_news_test.txt', 'r', encoding='utf-8') as file:\n",
    "    lines_test = file.readlines()\n",
    "\n",
    "targets, titles, texts = parse(lines_train, preprocess=False)\n",
    "data_test = parse(lines_test, preprocess=False)"
   ]
  },
  {
   "cell_type": "code",
   "execution_count": 6,
   "metadata": {
    "scrolled": true
   },
   "outputs": [
    {
     "data": {
      "text/plain": [
       "Counter({'sport': 2215,\n",
       "         'culture': 2053,\n",
       "         'science': 2156,\n",
       "         'media': 2111,\n",
       "         'economics': 2080,\n",
       "         'life': 2033,\n",
       "         'forces': 1225,\n",
       "         'travel': 289,\n",
       "         'style': 284,\n",
       "         'business': 554})"
      ]
     },
     "execution_count": 6,
     "metadata": {},
     "output_type": "execute_result"
    }
   ],
   "source": [
    "from collections import Counter\n",
    "\n",
    "target_counter = Counter(targets)\n",
    "target_dict = dict(zip(target_counter, list(range(10))))\n",
    "y_train = [target_dict[key] for key in targets]\n",
    "target_counter"
   ]
  },
  {
   "cell_type": "markdown",
   "metadata": {},
   "source": [
    "Посмотрим на распределение длин текстов:"
   ]
  },
  {
   "cell_type": "code",
   "execution_count": 15,
   "metadata": {},
   "outputs": [],
   "source": [
    "text_lens = [len(text) for text in texts]\n",
    "title_lens = [len(title) for title in titles]\n",
    "text_len_counter = Counter(text_lens)\n",
    "title_len_counter = Counter(title_lens)"
   ]
  },
  {
   "cell_type": "code",
   "execution_count": 16,
   "metadata": {},
   "outputs": [
    {
     "data": {
      "image/png": "[encoded data removed]",
      "text/plain": [
       "<Figure size 432x288 with 1 Axes>"
      ]
     },
     "metadata": {
      "needs_background": "light"
     },
     "output_type": "display_data"
    }
   ],
   "source": [
    "from matplotlib import pyplot as plt\n",
    "%matplotlib inline\n",
    "plt.bar(text_len_counter.keys(), text_len_counter.values(), )\n",
    "plt.xlim(0, 400);"
   ]
  },
  {
   "cell_type": "code",
   "execution_count": 17,
   "metadata": {},
   "outputs": [
    {
     "data": {
      "text/plain": [
       "0.9604"
      ]
     },
     "execution_count": 17,
     "metadata": {},
     "output_type": "execute_result"
    }
   ],
   "source": [
    "len([l for l in text_lens if l < 300]) / len(text_lens)"
   ]
  },
  {
   "cell_type": "markdown",
   "metadata": {},
   "source": [
    "Распределение длин заголовков"
   ]
  },
  {
   "cell_type": "code",
   "execution_count": 18,
   "metadata": {},
   "outputs": [
    {
     "data": {
      "text/plain": [
       "15"
      ]
     },
     "execution_count": 18,
     "metadata": {},
     "output_type": "execute_result"
    },
    {
     "data": {
      "image/png": "[encoded data removed]",
      "text/plain": [
       "<Figure size 432x288 with 1 Axes>"
      ]
     },
     "metadata": {
      "needs_background": "light"
     },
     "output_type": "display_data"
    }
   ],
   "source": [
    "plt.bar(title_len_counter.keys(), title_len_counter.values());\n",
    "np.max(title_lens)"
   ]
  },
  {
   "cell_type": "code",
   "execution_count": 7,
   "metadata": {},
   "outputs": [],
   "source": [
    "# объединение заголовка и текста статьи (необязательно)\n",
    "texts = [title + text for title, text in zip(titles, texts)]\n",
    "data_test[1][:] = [title + text for title, text in zip(data_test[1], data_test[2])]"
   ]
  },
  {
   "cell_type": "code",
   "execution_count": 8,
   "metadata": {},
   "outputs": [
    {
     "name": "stderr",
     "output_type": "stream",
     "text": [
      "[nltk_data] Downloading package stopwords to\n",
      "[nltk_data]     C:\\Users\\lesha\\AppData\\Roaming\\nltk_data...\n",
      "[nltk_data]   Package stopwords is already up-to-date!\n"
     ]
    }
   ],
   "source": [
    "import nltk\n",
    "nltk.download(\"stopwords\")\n",
    "from nltk.corpus import stopwords\n",
    "russian_stopwords = stopwords.words(\"russian\")"
   ]
  },
  {
   "cell_type": "code",
   "execution_count": 9,
   "metadata": {},
   "outputs": [],
   "source": [
    "from sklearn.feature_extraction.text import TfidfVectorizer\n",
    "\n",
    "# перед использванием списки слов будут объединены в одну строку\n",
    "tfidf = TfidfVectorizer(preprocessor=' '.join, stop_words=russian_stopwords) \n",
    "X_train = tfidf.fit_transform(texts) # требует лист из строк"
   ]
  },
  {
   "cell_type": "code",
   "execution_count": 10,
   "metadata": {},
   "outputs": [],
   "source": [
    "from gensim.models import Word2Vec\n",
    "\n",
    "nemb = 300 # размер вектора слова\n",
    "w2v_model = Word2Vec(min_count=1, window=5, size=nemb, sample=6e-5, alpha=0.03, min_alpha=0.0004, negative=20, workers=6)\n",
    "\n",
    "w2v_model.build_vocab(texts) # требует список из списков токенов"
   ]
  },
  {
   "cell_type": "code",
   "execution_count": 62,
   "metadata": {
    "scrolled": true
   },
   "outputs": [
    {
     "data": {
      "text/plain": [
       "(47213678, 82319220)"
      ]
     },
     "execution_count": 62,
     "metadata": {},
     "output_type": "execute_result"
    }
   ],
   "source": [
    "w2v_model.train(texts, total_examples=w2v_model.corpus_count, epochs=30)"
   ]
  },
  {
   "cell_type": "code",
   "execution_count": 63,
   "metadata": {},
   "outputs": [
    {
     "data": {
      "text/plain": [
       "[('издание', 0.6300684213638306),\n",
       " ('коммерсантъ', 0.520862877368927),\n",
       " ('коммерсант', 0.5184797048568726),\n",
       " ('ида', 0.5050088763237),\n",
       " ('известие', 0.5015398263931274),\n",
       " ('ведомость', 0.4996801018714905),\n",
       " ('таблоид', 0.4806196391582489),\n",
       " ('рбк', 0.47593629360198975),\n",
       " ('гаарец', 0.47068530321121216),\n",
       " ('неназванный', 0.46755051612854004)]"
      ]
     },
     "execution_count": 63,
     "metadata": {},
     "output_type": "execute_result"
    }
   ],
   "source": [
    "# 10 наиболее семантически близких слов\n",
    "w2v_model.wv.most_similar('газета')"
   ]
  },
  {
   "cell_type": "code",
   "execution_count": 64,
   "metadata": {},
   "outputs": [
    {
     "name": "stderr",
     "output_type": "stream",
     "text": [
      "<ipython-input-64-6a6aa79c3482>:4: DeprecationWarning: Call to deprecated `__contains__` (Method will be removed in 4.0.0, use self.wv.__contains__() instead).\n",
      "  if word in w2v_model:\n",
      "<ipython-input-64-6a6aa79c3482>:5: DeprecationWarning: Call to deprecated `__getitem__` (Method will be removed in 4.0.0, use self.wv.__getitem__() instead).\n",
      "  embedding_matrix[i] = w2v_model[word]\n"
     ]
    }
   ],
   "source": [
    "# построение словаря: слово -> вектор длины nemb\n",
    "embedding_matrix = np.zeros((len(tfidf.vocabulary_), nemb), dtype=np.float32)\n",
    "c = 0\n",
    "for word, i in tfidf.vocabulary_.items():\n",
    "    if word in w2v_model:\n",
    "        embedding_matrix[i] = w2v_model[word]\n",
    "    else:\n",
    "        c += 1"
   ]
  },
  {
   "cell_type": "code",
   "execution_count": 65,
   "metadata": {},
   "outputs": [],
   "source": [
    "# вместо простого усреднения последовательности погруженных векторов\n",
    "# будем использовать усреднение с весами tf-idf \n",
    "X_train = X_train @ embedding_matrix"
   ]
  },
  {
   "cell_type": "code",
   "execution_count": 40,
   "metadata": {},
   "outputs": [
    {
     "name": "stdout",
     "output_type": "stream",
     "text": [
      "Fitting 5 folds for each of 6 candidates, totalling 30 fits\n"
     ]
    },
    {
     "name": "stderr",
     "output_type": "stream",
     "text": [
      "[Parallel(n_jobs=5)]: Using backend LokyBackend with 5 concurrent workers.\n",
      "[Parallel(n_jobs=5)]: Done   8 tasks      | elapsed:   58.2s\n",
      "[Parallel(n_jobs=5)]: Done  28 out of  30 | elapsed:  3.8min remaining:   16.0s\n",
      "[Parallel(n_jobs=5)]: Done  30 out of  30 | elapsed:  3.8min finished\n"
     ]
    },
    {
     "data": {
      "text/plain": [
       "GridSearchCV(estimator=LogisticRegression(max_iter=1000, random_state=42),\n",
       "             n_jobs=5,\n",
       "             param_grid={'C': [0.01, 0.1, 1],\n",
       "                         'multi_class': ['ovr', 'multinomial']},\n",
       "             verbose=5)"
      ]
     },
     "execution_count": 40,
     "metadata": {},
     "output_type": "execute_result"
    }
   ],
   "source": [
    "# Логистическая регрессия с подбором оптимальных гиперпараметров\n",
    "# Без заголовков\n",
    "from sklearn.linear_model import  LogisticRegression\n",
    "from sklearn.model_selection import GridSearchCV\n",
    "import multiprocessing\n",
    "\n",
    "#n_jobs = multiprocessing.cpu_count()-1\n",
    "params = {'C': [0.01, 0.1, 1], \n",
    "          'multi_class': ['ovr', 'multinomial']}\n",
    "\n",
    "clf = LogisticRegression(max_iter=1000, random_state=42)\n",
    "grid_LogReg = GridSearchCV(clf, params, verbose=5, n_jobs=5)\n",
    "grid_LogReg.fit(X_train, y_train)"
   ]
  },
  {
   "cell_type": "code",
   "execution_count": 70,
   "metadata": {
    "scrolled": true
   },
   "outputs": [
    {
     "name": "stdout",
     "output_type": "stream",
     "text": [
      "              precision    recall  f1-score   support\n",
      "\n",
      "       sport       0.96      0.98      0.97       423\n",
      "     culture       0.93      0.79      0.85       426\n",
      "     science       0.95      0.51      0.66       466\n",
      "       media       0.67      0.80      0.73       403\n",
      "   economics       0.71      0.95      0.81       426\n",
      "        life       0.71      0.87      0.78       415\n",
      "      forces       0.72      0.85      0.78       245\n",
      "      travel       0.84      0.69      0.76        54\n",
      "       style       0.93      0.75      0.83        52\n",
      "    business       0.50      0.08      0.13        90\n",
      "\n",
      "    accuracy                           0.79      3000\n",
      "   macro avg       0.79      0.73      0.73      3000\n",
      "weighted avg       0.81      0.79      0.78      3000\n",
      "\n"
     ]
    },
    {
     "data": {
      "text/plain": [
       "{'C': 0.01, 'multi_class': 'ovr'}"
      ]
     },
     "execution_count": 70,
     "metadata": {},
     "output_type": "execute_result"
    }
   ],
   "source": [
    "from sklearn.metrics import classification_report\n",
    "\n",
    "y_test = [target_dict[key] for key in data_test[0]]\n",
    "X_test = tfidf.transform(data_test[1]) @ embedding_matrix\n",
    "y_pred = grid_LogReg.best_estimator_.predict(X_test)\n",
    "print(classification_report(y_test, y_pred, target_names=target_dict.keys()))\n",
    "grid_LogReg.best_params_"
   ]
  },
  {
   "cell_type": "code",
   "execution_count": 71,
   "metadata": {
    "scrolled": true
   },
   "outputs": [
    {
     "name": "stdout",
     "output_type": "stream",
     "text": [
      "              precision    recall  f1-score   support\n",
      "\n",
      "       sport       0.97      0.97      0.97       423\n",
      "     culture       0.93      0.90      0.91       426\n",
      "     science       0.89      0.83      0.86       466\n",
      "       media       0.82      0.87      0.84       403\n",
      "   economics       0.86      0.89      0.87       426\n",
      "        life       0.84      0.87      0.85       415\n",
      "      forces       0.78      0.89      0.83       245\n",
      "      travel       0.87      0.72      0.79        54\n",
      "       style       0.84      0.83      0.83        52\n",
      "    business       0.67      0.42      0.52        90\n",
      "\n",
      "    accuracy                           0.87      3000\n",
      "   macro avg       0.85      0.82      0.83      3000\n",
      "weighted avg       0.87      0.87      0.87      3000\n",
      "\n"
     ]
    }
   ],
   "source": [
    "# С заголовками\n",
    "clf = LogisticRegression(C=0.01, multi_class='ovr', max_iter=1000, random_state=42)\n",
    "clf.fit(X_train, y_train)\n",
    "y_pred = clf.predict(X_test)\n",
    "print(classification_report(y_test, y_pred, target_names=target_dict.keys()))"
   ]
  },
  {
   "cell_type": "code",
   "execution_count": null,
   "metadata": {
    "scrolled": true
   },
   "outputs": [],
   "source": [
    "# Метод опорных векторов с подбором оптимальных гиперпараметров\n",
    "# Без заголовков\n",
    "from sklearn.svm import SVC\n",
    "\n",
    "params = {'C': [0.01, 0.1, 1],\n",
    "         'kernel': ['linear', 'poly', 'rbf']}\n",
    "\n",
    "clf = SVC(decision_function_shape='ovo', random_state=42)\n",
    "grid_SVM = GridSearchCV(clf, params, n_jobs=5)\n",
    "grid_SVM.fit(X_train, y_train)"
   ]
  },
  {
   "cell_type": "code",
   "execution_count": 52,
   "metadata": {},
   "outputs": [
    {
     "name": "stdout",
     "output_type": "stream",
     "text": [
      "              precision    recall  f1-score   support\n",
      "\n",
      "       sport       0.97      0.98      0.98       423\n",
      "     culture       0.93      0.91      0.92       426\n",
      "     science       0.92      0.80      0.86       466\n",
      "       media       0.82      0.87      0.84       403\n",
      "   economics       0.84      0.92      0.88       426\n",
      "        life       0.84      0.87      0.86       415\n",
      "      forces       0.78      0.91      0.84       245\n",
      "      travel       0.91      0.72      0.80        54\n",
      "       style       0.88      0.85      0.86        52\n",
      "    business       0.69      0.34      0.46        90\n",
      "\n",
      "    accuracy                           0.87      3000\n",
      "   macro avg       0.86      0.82      0.83      3000\n",
      "weighted avg       0.87      0.87      0.87      3000\n",
      "\n"
     ]
    },
    {
     "data": {
      "text/plain": [
       "{'C': 1, 'kernel': 'rbf'}"
      ]
     },
     "execution_count": 52,
     "metadata": {},
     "output_type": "execute_result"
    }
   ],
   "source": [
    "y_pred = grid_SVM.best_estimator_.predict(X_test)\n",
    "print(classification_report(y_test, y_pred, target_names=target_dict.keys()))\n",
    "grid_SVM.best_params_"
   ]
  },
  {
   "cell_type": "code",
   "execution_count": 73,
   "metadata": {},
   "outputs": [
    {
     "name": "stdout",
     "output_type": "stream",
     "text": [
      "              precision    recall  f1-score   support\n",
      "\n",
      "       sport       0.97      0.98      0.98       423\n",
      "     culture       0.94      0.91      0.92       426\n",
      "     science       0.91      0.81      0.86       466\n",
      "       media       0.82      0.88      0.85       403\n",
      "   economics       0.84      0.92      0.88       426\n",
      "        life       0.84      0.87      0.85       415\n",
      "      forces       0.78      0.91      0.84       245\n",
      "      travel       0.89      0.74      0.81        54\n",
      "       style       0.88      0.81      0.84        52\n",
      "    business       0.71      0.33      0.45        90\n",
      "\n",
      "    accuracy                           0.87      3000\n",
      "   macro avg       0.86      0.82      0.83      3000\n",
      "weighted avg       0.87      0.87      0.87      3000\n",
      "\n"
     ]
    }
   ],
   "source": [
    "# С заголовками\n",
    "clf_ = SVC(C=1, kernel='rbf', decision_function_shape='ovr', random_state=42)\n",
    "clf_.fit(X_train, y_train)\n",
    "y_pred_ = clf_.predict(X_test)\n",
    "print(classification_report(y_test, y_pred_, target_names=target_dict.keys()))"
   ]
  },
  {
   "cell_type": "markdown",
   "metadata": {},
   "source": [
    "#### Классификация с помощью нейронной сети в файле `Task_6_2.ipynb`"
   ]
  }
 ],
 "metadata": {
  "kernelspec": {
   "display_name": "Python 3",
   "language": "python",
   "name": "python3"
  },
  "language_info": {
   "codemirror_mode": {
    "name": "ipython",
    "version": 3
   },
   "file_extension": ".py",
   "mimetype": "text/x-python",
   "name": "python",
   "nbconvert_exporter": "python",
   "pygments_lexer": "ipython3",
   "version": "3.8.5"
  }
 },
 "nbformat": 4,
 "nbformat_minor": 4
}
