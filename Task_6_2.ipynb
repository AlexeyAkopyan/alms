{
 "cells": [
  {
   "cell_type": "code",
   "execution_count": 1,
   "metadata": {
    "colab": {
     "base_uri": "https://localhost:8080/"
    },
    "id": "evKBQkyPzvuJ",
    "outputId": "1b82c978-01c8-4fbe-ed68-385e7c050c82"
   },
   "outputs": [
    {
     "name": "stdout",
     "output_type": "stream",
     "text": [
      "Drive already mounted at /content/drive; to attempt to forcibly remount, call drive.mount(\"/content/drive\", force_remount=True).\n"
     ]
    }
   ],
   "source": [
    "from google.colab import drive\n",
    "drive.mount('/content/drive')\n",
    "DATA_PATH = \"/content/drive/My Drive/alms/\""
   ]
  },
  {
   "cell_type": "code",
   "execution_count": 2,
   "metadata": {
    "id": "RzAVjYLYzo0w"
   },
   "outputs": [],
   "source": [
    "lines_train = list(open(DATA_PATH + 'data/news_train.txt', 'r', encoding='utf-8'))\n",
    "lines_test = list(open(DATA_PATH + 'data/news_test.txt', 'r', encoding='utf-8'))"
   ]
  },
  {
   "cell_type": "code",
   "execution_count": 3,
   "metadata": {
    "id": "-i8mQ7pozo0w"
   },
   "outputs": [],
   "source": [
    "from tqdm.notebook import trange, tqdm\n",
    "def parse(lines):\n",
    "    targets = []\n",
    "    titles = []\n",
    "    texts = []\n",
    "    for i in trange(len(lines)):\n",
    "        target, title, text = lines[i].split('\\t')\n",
    "        targets.append(target)\n",
    "        if text[-1] == '\\n':\n",
    "            text = text[:-1]\n",
    "        titles.append(title)\n",
    "        texts.append(text)\n",
    "\n",
    "    return targets, titles, texts"
   ]
  },
  {
   "cell_type": "code",
   "execution_count": 4,
   "metadata": {
    "colab": {
     "base_uri": "https://localhost:8080/",
     "height": 114,
     "referenced_widgets": [
      "e97027d91efc4b5e81757c163ee96709",
      "3bab69b5fad0490e981e854b31e22c82",
      "76a7532b002d45e1998f5dc828a2f6ef",
      "e077d45237d4408d8db396c709145de5",
      "7dc0e9499edc40319649db78c9367c72",
      "895e2d64a604408ea4e6c1ec0f9e3649",
      "ab2f1001c0e14076b1b2e6c30f7ef698",
      "c065732967e742d8abdb15cc3c5baadd",
      "b35eabf26e0c4ebca49ac4cca5e7b220",
      "829633bece60477394e29665e172b210",
      "bcf3f776b8d843c1953e84f723e9833d",
      "550984ca1a224136a05747dbeaec1d50",
      "4a79b1f8662b47f28f579ac1904ec2dd",
      "853da2af52734dfab310069e99b95bf2",
      "8dadc6819062478d83c5eed5df9640fd",
      "9ae62c2dc1cd41b8b0e684582ea75b25"
     ]
    },
    "id": "kTT25eejzo0w",
    "outputId": "effb3abe-eb92-4e4c-bb17-535ae57d4144",
    "scrolled": true
   },
   "outputs": [
    {
     "data": {
      "application/vnd.jupyter.widget-view+json": {
       "model_id": "e97027d91efc4b5e81757c163ee96709",
       "version_major": 2,
       "version_minor": 0
      },
      "text/plain": [
       "HBox(children=(FloatProgress(value=0.0, max=15000.0), HTML(value='')))"
      ]
     },
     "metadata": {
      "tags": []
     },
     "output_type": "display_data"
    },
    {
     "name": "stdout",
     "output_type": "stream",
     "text": [
      "\n"
     ]
    },
    {
     "data": {
      "application/vnd.jupyter.widget-view+json": {
       "model_id": "b35eabf26e0c4ebca49ac4cca5e7b220",
       "version_major": 2,
       "version_minor": 0
      },
      "text/plain": [
       "HBox(children=(FloatProgress(value=0.0, max=3000.0), HTML(value='')))"
      ]
     },
     "metadata": {
      "tags": []
     },
     "output_type": "display_data"
    },
    {
     "name": "stdout",
     "output_type": "stream",
     "text": [
      "\n"
     ]
    }
   ],
   "source": [
    "targets, titles, texts = parse(lines_train)\n",
    "data_test = parse(lines_test)"
   ]
  },
  {
   "cell_type": "code",
   "execution_count": 5,
   "metadata": {
    "colab": {
     "base_uri": "https://localhost:8080/"
    },
    "id": "GVRv5ya1zo0x",
    "outputId": "0bb9598a-c4ed-4ef0-cfdb-c5d9a5085474"
   },
   "outputs": [
    {
     "data": {
      "text/plain": [
       "Counter({'business': 554,\n",
       "         'culture': 2053,\n",
       "         'economics': 2080,\n",
       "         'forces': 1225,\n",
       "         'life': 2033,\n",
       "         'media': 2111,\n",
       "         'science': 2156,\n",
       "         'sport': 2215,\n",
       "         'style': 284,\n",
       "         'travel': 289})"
      ]
     },
     "execution_count": 5,
     "metadata": {
      "tags": []
     },
     "output_type": "execute_result"
    }
   ],
   "source": [
    "from collections import Counter\n",
    "\n",
    "target_counter = Counter(targets)\n",
    "target_dict = dict(zip(target_counter, list(range(10))))\n",
    "targets_train = [target_dict[key] for key in targets]\n",
    "targets_test = [target_dict[key] for key in data_test[0]]\n",
    "target_counter"
   ]
  },
  {
   "cell_type": "code",
   "execution_count": 6,
   "metadata": {
    "id": "jUmAuukHzo0x"
   },
   "outputs": [],
   "source": [
    "# объединение заголовка и текста статьи (необязательно)\n",
    "texts = [title + text for title, text in zip(titles, texts)]\n",
    "data_test[1][:] = [title + text for title, text in zip(data_test[1], data_test[2])]"
   ]
  },
  {
   "cell_type": "code",
   "execution_count": null,
   "metadata": {
    "colab": {
     "base_uri": "https://localhost:8080/"
    },
    "id": "4rPRvs1e0IdX",
    "outputId": "d2fea06c-e623-4a73-ebd7-ff5b0531ad6a",
    "scrolled": true
   },
   "outputs": [],
   "source": [
    "!pip install transformers"
   ]
  },
  {
   "cell_type": "code",
   "execution_count": 8,
   "metadata": {
    "id": "8i-GhLpBzo0x"
   },
   "outputs": [],
   "source": [
    "import torch\n",
    "from transformers import BertTokenizer"
   ]
  },
  {
   "cell_type": "code",
   "execution_count": 9,
   "metadata": {
    "id": "m6toUjpkzo0x",
    "scrolled": false
   },
   "outputs": [],
   "source": [
    "tokenizer = BertTokenizer.from_pretrained(\"DeepPavlov/rubert-base-cased\", \n",
    "                                          do_lower_case=True)"
   ]
  },
  {
   "cell_type": "code",
   "execution_count": 10,
   "metadata": {
    "id": "cpMmQSk7zo0x",
    "scrolled": false
   },
   "outputs": [],
   "source": [
    "data_train = tokenizer.batch_encode_plus(texts, add_special_tokens=True, \n",
    "                                         padding='max_length', truncation=True, max_length=256, \n",
    "                                         return_tensors='pt', return_attention_mask=True)\n",
    "data_test = tokenizer.batch_encode_plus(data_test[1], add_special_tokens=True, \n",
    "                                        padding='max_length', truncation=True, max_length=256, \n",
    "                                        return_tensors='pt', return_attention_mask=True)"
   ]
  },
  {
   "cell_type": "code",
   "execution_count": 11,
   "metadata": {
    "id": "UvRI6z5Izo0x"
   },
   "outputs": [],
   "source": [
    "from sklearn.model_selection import train_test_split\n",
    "\n",
    "input_ids_train, input_ids_val = train_test_split(data_train['input_ids'], test_size=0.1, random_state=42)\n",
    "attention_masks_train, attention_masks_val = train_test_split(data_train['attention_mask'], test_size=0.1, random_state=42)\n",
    "targets_train, targets_val = train_test_split(targets_train, test_size=0.1, random_state=42)"
   ]
  },
  {
   "cell_type": "code",
   "execution_count": 12,
   "metadata": {
    "id": "UhXTUB1yzo0x",
    "scrolled": true
   },
   "outputs": [],
   "source": [
    "targets_train = torch.LongTensor(targets_train)\n",
    "targets_val = torch.LongTensor(targets_val)\n",
    "\n",
    "targets_test = torch.LongTensor(targets_test)"
   ]
  },
  {
   "cell_type": "code",
   "execution_count": 13,
   "metadata": {
    "id": "_xxBGruPzo0x"
   },
   "outputs": [],
   "source": [
    "from torch.utils.data import TensorDataset, DataLoader, RandomSampler, SequentialSampler\n",
    "\n",
    "batch_size = 16\n",
    "\n",
    "train_data = TensorDataset(input_ids_train, attention_masks_train, targets_train)\n",
    "train_sampler = RandomSampler(train_data)\n",
    "train_dataloader = DataLoader(train_data, sampler=train_sampler, batch_size=batch_size)\n",
    "\n",
    "val_data = TensorDataset(input_ids_val, attention_masks_val, targets_val)\n",
    "val_sampler = SequentialSampler(input_ids_val)\n",
    "val_dataloader = DataLoader(val_data, sampler=val_sampler, batch_size=batch_size)\n",
    "\n",
    "test_data = TensorDataset(data_test['input_ids'], data_test['attention_mask'])\n",
    "test_sampler = SequentialSampler(data_test['input_ids'])\n",
    "test_dataloader = DataLoader(test_data, sampler=test_sampler, batch_size=batch_size)"
   ]
  },
  {
   "cell_type": "code",
   "execution_count": 14,
   "metadata": {
    "colab": {
     "base_uri": "https://localhost:8080/"
    },
    "id": "EeBZoraizo0x",
    "outputId": "b3c90b3c-01e3-48d6-8648-654101be0046",
    "scrolled": true
   },
   "outputs": [
    {
     "name": "stderr",
     "output_type": "stream",
     "text": [
      "Some weights of BertForSequenceClassification were not initialized from the model checkpoint at DeepPavlov/rubert-base-cased and are newly initialized: ['classifier.weight', 'classifier.bias']\n",
      "You should probably TRAIN this model on a down-stream task to be able to use it for predictions and inference.\n"
     ]
    }
   ],
   "source": [
    "from transformers import BertForSequenceClassification, AdamW, BertConfig\n",
    "\n",
    "model = BertForSequenceClassification.from_pretrained(\"DeepPavlov/rubert-base-cased\", \n",
    "                                                      num_labels = 10, \n",
    "                                                      output_attentions = False,\n",
    "                                                      output_hidden_states = False)"
   ]
  },
  {
   "cell_type": "code",
   "execution_count": 15,
   "metadata": {
    "id": "XqlJoz80zo0x"
   },
   "outputs": [],
   "source": [
    "optimizer = AdamW(model.parameters(), lr = 2e-5, eps = 1e-8)"
   ]
  },
  {
   "cell_type": "code",
   "execution_count": 16,
   "metadata": {
    "id": "6FZIsP3Qzo0x"
   },
   "outputs": [],
   "source": [
    "from transformers import get_linear_schedule_with_warmup\n",
    "\n",
    "n_epochs = 4\n",
    "\n",
    "n_steps = len(train_dataloader) * n_epochs\n",
    "\n",
    "scheduler = get_linear_schedule_with_warmup(optimizer, num_warmup_steps = 0, num_training_steps = n_steps)"
   ]
  },
  {
   "cell_type": "code",
   "execution_count": 19,
   "metadata": {
    "colab": {
     "base_uri": "https://localhost:8080/"
    },
    "id": "s4mGgBqhzo0x",
    "outputId": "d454a516-9aa3-414f-f9aa-bcc084031105",
    "scrolled": false
   },
   "outputs": [
    {
     "name": "stdout",
     "output_type": "stream",
     "text": [
      "Training:\n",
      "Batch   100  of    844.    Time: 0:01:27.\n",
      "Batch   200  of    844.    Time: 0:02:55.\n",
      "Batch   300  of    844.    Time: 0:04:24.\n",
      "Batch   400  of    844.    Time: 0:05:52.\n",
      "Batch   500  of    844.    Time: 0:07:20.\n",
      "Batch   600  of    844.    Time: 0:08:49.\n",
      "Batch   700  of    844.    Time: 0:10:17.\n",
      "Batch   800  of    844.    Time: 0:11:45.\n",
      "Mean loss:  0.4097202039672441\n",
      "Training epoch took: 0:12:25\n",
      "\n",
      "Validation:\n",
      "              precision    recall  f1-score   support\n",
      "\n",
      "       sport       0.97      0.99      0.98       231\n",
      "     culture       0.95      0.94      0.94       186\n",
      "     science       0.91      0.86      0.89       212\n",
      "       media       0.86      0.86      0.86       215\n",
      "   economics       0.89      0.82      0.85       206\n",
      "        life       0.91      0.84      0.87       191\n",
      "      forces       0.87      0.97      0.92       134\n",
      "      travel       1.00      0.84      0.91        31\n",
      "       style       0.84      0.94      0.89        34\n",
      "    business       0.56      0.80      0.66        60\n",
      "\n",
      "    accuracy                           0.89      1500\n",
      "   macro avg       0.88      0.88      0.88      1500\n",
      "weighted avg       0.90      0.89      0.89      1500\n",
      "\n",
      "Validation took: 0:12:49\n",
      "\n",
      "Training:\n",
      "Batch   100  of    844.    Time: 0:01:27.\n",
      "Batch   200  of    844.    Time: 0:02:55.\n",
      "Batch   300  of    844.    Time: 0:04:23.\n",
      "Batch   400  of    844.    Time: 0:05:52.\n",
      "Batch   500  of    844.    Time: 0:07:20.\n",
      "Batch   600  of    844.    Time: 0:08:49.\n",
      "Batch   700  of    844.    Time: 0:10:17.\n",
      "Batch   800  of    844.    Time: 0:11:45.\n",
      "Mean loss:  0.222100721800179\n",
      "Training epoch took: 0:12:24\n",
      "\n",
      "Validation:\n",
      "              precision    recall  f1-score   support\n",
      "\n",
      "       sport       0.96      0.99      0.97       231\n",
      "     culture       0.94      0.96      0.95       186\n",
      "     science       0.97      0.83      0.90       212\n",
      "       media       0.85      0.90      0.87       215\n",
      "   economics       0.85      0.94      0.89       206\n",
      "        life       0.92      0.85      0.89       191\n",
      "      forces       0.94      0.94      0.94       134\n",
      "      travel       0.79      0.97      0.87        31\n",
      "       style       0.88      0.85      0.87        34\n",
      "    business       0.72      0.60      0.65        60\n",
      "\n",
      "    accuracy                           0.90      1500\n",
      "   macro avg       0.88      0.88      0.88      1500\n",
      "weighted avg       0.90      0.90      0.90      1500\n",
      "\n",
      "Validation took: 0:12:49\n",
      "\n",
      "Training:\n",
      "Batch   100  of    844.    Time: 0:01:27.\n",
      "Batch   200  of    844.    Time: 0:02:55.\n",
      "Batch   300  of    844.    Time: 0:04:23.\n",
      "Batch   400  of    844.    Time: 0:05:51.\n",
      "Batch   500  of    844.    Time: 0:07:19.\n",
      "Batch   600  of    844.    Time: 0:08:47.\n",
      "Batch   700  of    844.    Time: 0:10:15.\n",
      "Batch   800  of    844.    Time: 0:11:44.\n",
      "Mean loss:  0.12157417783018211\n",
      "Training epoch took: 0:12:23\n",
      "\n",
      "Validation:\n",
      "              precision    recall  f1-score   support\n",
      "\n",
      "       sport       0.98      0.97      0.98       231\n",
      "     culture       0.94      0.96      0.95       186\n",
      "     science       0.86      0.93      0.89       212\n",
      "       media       0.85      0.89      0.87       215\n",
      "   economics       0.88      0.92      0.90       206\n",
      "        life       0.93      0.86      0.89       191\n",
      "      forces       0.97      0.89      0.93       134\n",
      "      travel       0.89      0.81      0.85        31\n",
      "       style       0.89      0.91      0.90        34\n",
      "    business       0.77      0.60      0.67        60\n",
      "\n",
      "    accuracy                           0.90      1500\n",
      "   macro avg       0.89      0.87      0.88      1500\n",
      "weighted avg       0.90      0.90      0.90      1500\n",
      "\n",
      "Validation took: 0:12:47\n",
      "\n",
      "Training:\n",
      "Batch   100  of    844.    Time: 0:01:27.\n",
      "Batch   200  of    844.    Time: 0:02:54.\n",
      "Batch   300  of    844.    Time: 0:04:22.\n",
      "Batch   400  of    844.    Time: 0:05:50.\n",
      "Batch   500  of    844.    Time: 0:07:18.\n",
      "Batch   600  of    844.    Time: 0:08:46.\n",
      "Batch   700  of    844.    Time: 0:10:14.\n",
      "Batch   800  of    844.    Time: 0:11:42.\n",
      "Mean loss:  0.05846746173914592\n",
      "Training epoch took: 0:12:21\n",
      "\n",
      "Validation:\n",
      "              precision    recall  f1-score   support\n",
      "\n",
      "       sport       0.98      0.98      0.98       231\n",
      "     culture       0.95      0.95      0.95       186\n",
      "     science       0.89      0.88      0.88       212\n",
      "       media       0.84      0.89      0.86       215\n",
      "   economics       0.91      0.88      0.89       206\n",
      "        life       0.92      0.87      0.90       191\n",
      "      forces       0.95      0.93      0.94       134\n",
      "      travel       0.88      0.97      0.92        31\n",
      "       style       0.89      0.94      0.91        34\n",
      "    business       0.66      0.67      0.66        60\n",
      "\n",
      "    accuracy                           0.90      1500\n",
      "   macro avg       0.89      0.90      0.89      1500\n",
      "weighted avg       0.91      0.90      0.90      1500\n",
      "\n",
      "Validation took: 0:12:45\n",
      "\n"
     ]
    }
   ],
   "source": [
    "import random\n",
    "from datetime import timedelta\n",
    "import time\n",
    "from sklearn.metrics import classification_report\n",
    "import numpy as np\n",
    "\n",
    "device = torch.device(\"cuda\")\n",
    "seed = 42\n",
    "random.seed = (seed)\n",
    "np.random.seed(seed)\n",
    "torch.manual_seed(seed)\n",
    "torch.cuda.manual_seed_all(seed)\n",
    "model.cuda()\n",
    "\n",
    "losses = []\n",
    "\n",
    "for epoch in range(n_epochs):\n",
    "    print(\"Training:\")\n",
    "    start = time.time()\n",
    "    mean_loss = 0\n",
    "    model.train()\n",
    "    for step, batch in enumerate(train_dataloader):\n",
    "        \n",
    "        torch.cuda.empty_cache()\n",
    "        if (step + 1) % 100 == 0:\n",
    "            duration = timedelta(seconds=int(time.time() - start))\n",
    "            print('Batch {:>5,}  of  {:>5,}.    Time: {:}.'.format(step + 1, len(train_dataloader), duration))\n",
    "        b_input_ids = batch[0].to(device)\n",
    "        b_attention_masks = batch[1].to(device)\n",
    "        b_targets = batch[2].to(device)\n",
    "        model.zero_grad()\n",
    "        \n",
    "        torch.cuda.empty_cache()\n",
    "        outputs = model(b_input_ids, attention_mask=b_attention_masks, labels = b_targets)\n",
    "        loss = outputs[0]\n",
    "        \n",
    "        mean_loss += loss.item()\n",
    "        loss.backward()\n",
    "        torch.nn.utils.clip_grad_norm_(model.parameters(), 1.0)\n",
    "        optimizer.step()\n",
    "        scheduler.step()\n",
    "        \n",
    "    mean_loss = mean_loss / len(train_dataloader)\n",
    "    \n",
    "    losses.append(mean_loss)\n",
    "    print(\"Mean loss: \" , mean_loss)\n",
    "    print(\"Training epoch took:\" , timedelta(seconds=int(time.time() - start)))\n",
    "    \n",
    "    print()\n",
    "    print(\"Validation:\")\n",
    "    model.eval()\n",
    "    \n",
    "    start = time.time()\n",
    "    predictions = torch.Tensor().to(dtype=torch.int8)\n",
    "    \n",
    "    for batch in val_dataloader:\n",
    "        \n",
    "        b_input_ids = batch[0].to(device)\n",
    "        b_attention_masks = batch[1].to(device)\n",
    "        b_targets = batch[2].to(device)\n",
    "        \n",
    "        with torch.no_grad():\n",
    "            outputs = model(b_input_ids, attention_mask=b_attention_masks, output_hidden_states=False, output_attentions=False, return_dict=True)\n",
    "        \n",
    "        \n",
    "        predictions = torch.cat((predictions, outputs.logits.cpu().argmax(axis=1)))\n",
    "        torch.cuda.empty_cache()\n",
    "        \n",
    "    \n",
    "    print(classification_report(targets_val, predictions, target_names=target_dict.keys()))\n",
    "    print(\"Validation took: {:}\".format(timedelta(seconds = int(time.time() - start))))\n",
    "    print()\n",
    "            \n",
    "            "
   ]
  },
  {
   "cell_type": "code",
   "execution_count": 20,
   "metadata": {
    "colab": {
     "base_uri": "https://localhost:8080/"
    },
    "id": "SHlajpwazo0x",
    "outputId": "517a796c-96d7-463e-f55a-24112f1aa10d"
   },
   "outputs": [
    {
     "name": "stdout",
     "output_type": "stream",
     "text": [
      "Testing:\n",
      "              precision    recall  f1-score   support\n",
      "\n",
      "       sport       0.98      0.99      0.98       423\n",
      "     culture       0.94      0.95      0.94       426\n",
      "     science       0.93      0.91      0.92       466\n",
      "       media       0.87      0.93      0.89       403\n",
      "   economics       0.93      0.89      0.91       426\n",
      "        life       0.93      0.90      0.92       415\n",
      "      forces       0.94      0.93      0.94       245\n",
      "      travel       0.79      0.83      0.81        54\n",
      "       style       0.90      0.88      0.89        52\n",
      "    business       0.61      0.66      0.63        90\n",
      "\n",
      "    accuracy                           0.92      3000\n",
      "   macro avg       0.88      0.89      0.88      3000\n",
      "weighted avg       0.92      0.92      0.92      3000\n",
      "\n"
     ]
    }
   ],
   "source": [
    "print(\"Testing:\")\n",
    "model.eval()\n",
    "\n",
    "t0 = time.time()\n",
    "predictions = torch.Tensor().to(dtype=torch.int8)\n",
    "\n",
    "for batch in test_dataloader:\n",
    "\n",
    "    b_input_ids = batch[0].to(device)\n",
    "    b_attention_masks = batch[1].to(device)\n",
    "\n",
    "    with torch.no_grad():\n",
    "        outputs = model(b_input_ids, attention_mask=b_attention_masks, output_hidden_states=False, output_attentions=False, return_dict=True)\n",
    "\n",
    "    predictions = torch.cat((predictions, outputs.logits.cpu().argmax(axis=1)))\n",
    "\n",
    "print(classification_report(targets_test, predictions, target_names=target_dict.keys()))"
   ]
  },
  {
   "cell_type": "code",
   "execution_count": null,
   "metadata": {
    "id": "yug9VHEIzo0x"
   },
   "outputs": [],
   "source": []
  }
 ],
 "metadata": {
  "accelerator": "GPU",
  "colab": {
   "collapsed_sections": [],
   "name": "Task_6_2.ipynb",
   "provenance": []
  },
  "kernelspec": {
   "display_name": "Python 3",
   "language": "python",
   "name": "python3"
  },
  "language_info": {
   "codemirror_mode": {
    "name": "ipython",
    "version": 3
   },
   "file_extension": ".py",
   "mimetype": "text/x-python",
   "name": "python",
   "nbconvert_exporter": "python",
   "pygments_lexer": "ipython3",
   "version": "3.8.5"
  },
  "widgets": {
   "application/vnd.jupyter.widget-state+json": {
    "3bab69b5fad0490e981e854b31e22c82": {
     "model_module": "@jupyter-widgets/base",
     "model_name": "LayoutModel",
     "state": {
      "_model_module": "@jupyter-widgets/base",
      "_model_module_version": "1.2.0",
      "_model_name": "LayoutModel",
      "_view_count": null,
      "_view_module": "@jupyter-widgets/base",
      "_view_module_version": "1.2.0",
      "_view_name": "LayoutView",
      "align_content": null,
      "align_items": null,
      "align_self": null,
      "border": null,
      "bottom": null,
      "display": null,
      "flex": null,
      "flex_flow": null,
      "grid_area": null,
      "grid_auto_columns": null,
      "grid_auto_flow": null,
      "grid_auto_rows": null,
      "grid_column": null,
      "grid_gap": null,
      "grid_row": null,
      "grid_template_areas": null,
      "grid_template_columns": null,
      "grid_template_rows": null,
      "height": null,
      "justify_content": null,
      "justify_items": null,
      "left": null,
      "margin": null,
      "max_height": null,
      "max_width": null,
      "min_height": null,
      "min_width": null,
      "object_fit": null,
      "object_position": null,
      "order": null,
      "overflow": null,
      "overflow_x": null,
      "overflow_y": null,
      "padding": null,
      "right": null,
      "top": null,
      "visibility": null,
      "width": null
     }
    },
    "4a79b1f8662b47f28f579ac1904ec2dd": {
     "model_module": "@jupyter-widgets/controls",
     "model_name": "ProgressStyleModel",
     "state": {
      "_model_module": "@jupyter-widgets/controls",
      "_model_module_version": "1.5.0",
      "_model_name": "ProgressStyleModel",
      "_view_count": null,
      "_view_module": "@jupyter-widgets/base",
      "_view_module_version": "1.2.0",
      "_view_name": "StyleView",
      "bar_color": null,
      "description_width": "initial"
     }
    },
    "550984ca1a224136a05747dbeaec1d50": {
     "model_module": "@jupyter-widgets/controls",
     "model_name": "HTMLModel",
     "state": {
      "_dom_classes": [],
      "_model_module": "@jupyter-widgets/controls",
      "_model_module_version": "1.5.0",
      "_model_name": "HTMLModel",
      "_view_count": null,
      "_view_module": "@jupyter-widgets/controls",
      "_view_module_version": "1.5.0",
      "_view_name": "HTMLView",
      "description": "",
      "description_tooltip": null,
      "layout": "IPY_MODEL_9ae62c2dc1cd41b8b0e684582ea75b25",
      "placeholder": "​",
      "style": "IPY_MODEL_8dadc6819062478d83c5eed5df9640fd",
      "value": " 3000/3000 [00:06&lt;00:00, 487.14it/s]"
     }
    },
    "76a7532b002d45e1998f5dc828a2f6ef": {
     "model_module": "@jupyter-widgets/controls",
     "model_name": "FloatProgressModel",
     "state": {
      "_dom_classes": [],
      "_model_module": "@jupyter-widgets/controls",
      "_model_module_version": "1.5.0",
      "_model_name": "FloatProgressModel",
      "_view_count": null,
      "_view_module": "@jupyter-widgets/controls",
      "_view_module_version": "1.5.0",
      "_view_name": "ProgressView",
      "bar_style": "success",
      "description": "100%",
      "description_tooltip": null,
      "layout": "IPY_MODEL_895e2d64a604408ea4e6c1ec0f9e3649",
      "max": 15000,
      "min": 0,
      "orientation": "horizontal",
      "style": "IPY_MODEL_7dc0e9499edc40319649db78c9367c72",
      "value": 15000
     }
    },
    "7dc0e9499edc40319649db78c9367c72": {
     "model_module": "@jupyter-widgets/controls",
     "model_name": "ProgressStyleModel",
     "state": {
      "_model_module": "@jupyter-widgets/controls",
      "_model_module_version": "1.5.0",
      "_model_name": "ProgressStyleModel",
      "_view_count": null,
      "_view_module": "@jupyter-widgets/base",
      "_view_module_version": "1.2.0",
      "_view_name": "StyleView",
      "bar_color": null,
      "description_width": "initial"
     }
    },
    "829633bece60477394e29665e172b210": {
     "model_module": "@jupyter-widgets/base",
     "model_name": "LayoutModel",
     "state": {
      "_model_module": "@jupyter-widgets/base",
      "_model_module_version": "1.2.0",
      "_model_name": "LayoutModel",
      "_view_count": null,
      "_view_module": "@jupyter-widgets/base",
      "_view_module_version": "1.2.0",
      "_view_name": "LayoutView",
      "align_content": null,
      "align_items": null,
      "align_self": null,
      "border": null,
      "bottom": null,
      "display": null,
      "flex": null,
      "flex_flow": null,
      "grid_area": null,
      "grid_auto_columns": null,
      "grid_auto_flow": null,
      "grid_auto_rows": null,
      "grid_column": null,
      "grid_gap": null,
      "grid_row": null,
      "grid_template_areas": null,
      "grid_template_columns": null,
      "grid_template_rows": null,
      "height": null,
      "justify_content": null,
      "justify_items": null,
      "left": null,
      "margin": null,
      "max_height": null,
      "max_width": null,
      "min_height": null,
      "min_width": null,
      "object_fit": null,
      "object_position": null,
      "order": null,
      "overflow": null,
      "overflow_x": null,
      "overflow_y": null,
      "padding": null,
      "right": null,
      "top": null,
      "visibility": null,
      "width": null
     }
    },
    "853da2af52734dfab310069e99b95bf2": {
     "model_module": "@jupyter-widgets/base",
     "model_name": "LayoutModel",
     "state": {
      "_model_module": "@jupyter-widgets/base",
      "_model_module_version": "1.2.0",
      "_model_name": "LayoutModel",
      "_view_count": null,
      "_view_module": "@jupyter-widgets/base",
      "_view_module_version": "1.2.0",
      "_view_name": "LayoutView",
      "align_content": null,
      "align_items": null,
      "align_self": null,
      "border": null,
      "bottom": null,
      "display": null,
      "flex": null,
      "flex_flow": null,
      "grid_area": null,
      "grid_auto_columns": null,
      "grid_auto_flow": null,
      "grid_auto_rows": null,
      "grid_column": null,
      "grid_gap": null,
      "grid_row": null,
      "grid_template_areas": null,
      "grid_template_columns": null,
      "grid_template_rows": null,
      "height": null,
      "justify_content": null,
      "justify_items": null,
      "left": null,
      "margin": null,
      "max_height": null,
      "max_width": null,
      "min_height": null,
      "min_width": null,
      "object_fit": null,
      "object_position": null,
      "order": null,
      "overflow": null,
      "overflow_x": null,
      "overflow_y": null,
      "padding": null,
      "right": null,
      "top": null,
      "visibility": null,
      "width": null
     }
    },
    "895e2d64a604408ea4e6c1ec0f9e3649": {
     "model_module": "@jupyter-widgets/base",
     "model_name": "LayoutModel",
     "state": {
      "_model_module": "@jupyter-widgets/base",
      "_model_module_version": "1.2.0",
      "_model_name": "LayoutModel",
      "_view_count": null,
      "_view_module": "@jupyter-widgets/base",
      "_view_module_version": "1.2.0",
      "_view_name": "LayoutView",
      "align_content": null,
      "align_items": null,
      "align_self": null,
      "border": null,
      "bottom": null,
      "display": null,
      "flex": null,
      "flex_flow": null,
      "grid_area": null,
      "grid_auto_columns": null,
      "grid_auto_flow": null,
      "grid_auto_rows": null,
      "grid_column": null,
      "grid_gap": null,
      "grid_row": null,
      "grid_template_areas": null,
      "grid_template_columns": null,
      "grid_template_rows": null,
      "height": null,
      "justify_content": null,
      "justify_items": null,
      "left": null,
      "margin": null,
      "max_height": null,
      "max_width": null,
      "min_height": null,
      "min_width": null,
      "object_fit": null,
      "object_position": null,
      "order": null,
      "overflow": null,
      "overflow_x": null,
      "overflow_y": null,
      "padding": null,
      "right": null,
      "top": null,
      "visibility": null,
      "width": null
     }
    },
    "8dadc6819062478d83c5eed5df9640fd": {
     "model_module": "@jupyter-widgets/controls",
     "model_name": "DescriptionStyleModel",
     "state": {
      "_model_module": "@jupyter-widgets/controls",
      "_model_module_version": "1.5.0",
      "_model_name": "DescriptionStyleModel",
      "_view_count": null,
      "_view_module": "@jupyter-widgets/base",
      "_view_module_version": "1.2.0",
      "_view_name": "StyleView",
      "description_width": ""
     }
    },
    "9ae62c2dc1cd41b8b0e684582ea75b25": {
     "model_module": "@jupyter-widgets/base",
     "model_name": "LayoutModel",
     "state": {
      "_model_module": "@jupyter-widgets/base",
      "_model_module_version": "1.2.0",
      "_model_name": "LayoutModel",
      "_view_count": null,
      "_view_module": "@jupyter-widgets/base",
      "_view_module_version": "1.2.0",
      "_view_name": "LayoutView",
      "align_content": null,
      "align_items": null,
      "align_self": null,
      "border": null,
      "bottom": null,
      "display": null,
      "flex": null,
      "flex_flow": null,
      "grid_area": null,
      "grid_auto_columns": null,
      "grid_auto_flow": null,
      "grid_auto_rows": null,
      "grid_column": null,
      "grid_gap": null,
      "grid_row": null,
      "grid_template_areas": null,
      "grid_template_columns": null,
      "grid_template_rows": null,
      "height": null,
      "justify_content": null,
      "justify_items": null,
      "left": null,
      "margin": null,
      "max_height": null,
      "max_width": null,
      "min_height": null,
      "min_width": null,
      "object_fit": null,
      "object_position": null,
      "order": null,
      "overflow": null,
      "overflow_x": null,
      "overflow_y": null,
      "padding": null,
      "right": null,
      "top": null,
      "visibility": null,
      "width": null
     }
    },
    "ab2f1001c0e14076b1b2e6c30f7ef698": {
     "model_module": "@jupyter-widgets/controls",
     "model_name": "DescriptionStyleModel",
     "state": {
      "_model_module": "@jupyter-widgets/controls",
      "_model_module_version": "1.5.0",
      "_model_name": "DescriptionStyleModel",
      "_view_count": null,
      "_view_module": "@jupyter-widgets/base",
      "_view_module_version": "1.2.0",
      "_view_name": "StyleView",
      "description_width": ""
     }
    },
    "b35eabf26e0c4ebca49ac4cca5e7b220": {
     "model_module": "@jupyter-widgets/controls",
     "model_name": "HBoxModel",
     "state": {
      "_dom_classes": [],
      "_model_module": "@jupyter-widgets/controls",
      "_model_module_version": "1.5.0",
      "_model_name": "HBoxModel",
      "_view_count": null,
      "_view_module": "@jupyter-widgets/controls",
      "_view_module_version": "1.5.0",
      "_view_name": "HBoxView",
      "box_style": "",
      "children": [
       "IPY_MODEL_bcf3f776b8d843c1953e84f723e9833d",
       "IPY_MODEL_550984ca1a224136a05747dbeaec1d50"
      ],
      "layout": "IPY_MODEL_829633bece60477394e29665e172b210"
     }
    },
    "bcf3f776b8d843c1953e84f723e9833d": {
     "model_module": "@jupyter-widgets/controls",
     "model_name": "FloatProgressModel",
     "state": {
      "_dom_classes": [],
      "_model_module": "@jupyter-widgets/controls",
      "_model_module_version": "1.5.0",
      "_model_name": "FloatProgressModel",
      "_view_count": null,
      "_view_module": "@jupyter-widgets/controls",
      "_view_module_version": "1.5.0",
      "_view_name": "ProgressView",
      "bar_style": "success",
      "description": "100%",
      "description_tooltip": null,
      "layout": "IPY_MODEL_853da2af52734dfab310069e99b95bf2",
      "max": 3000,
      "min": 0,
      "orientation": "horizontal",
      "style": "IPY_MODEL_4a79b1f8662b47f28f579ac1904ec2dd",
      "value": 3000
     }
    },
    "c065732967e742d8abdb15cc3c5baadd": {
     "model_module": "@jupyter-widgets/base",
     "model_name": "LayoutModel",
     "state": {
      "_model_module": "@jupyter-widgets/base",
      "_model_module_version": "1.2.0",
      "_model_name": "LayoutModel",
      "_view_count": null,
      "_view_module": "@jupyter-widgets/base",
      "_view_module_version": "1.2.0",
      "_view_name": "LayoutView",
      "align_content": null,
      "align_items": null,
      "align_self": null,
      "border": null,
      "bottom": null,
      "display": null,
      "flex": null,
      "flex_flow": null,
      "grid_area": null,
      "grid_auto_columns": null,
      "grid_auto_flow": null,
      "grid_auto_rows": null,
      "grid_column": null,
      "grid_gap": null,
      "grid_row": null,
      "grid_template_areas": null,
      "grid_template_columns": null,
      "grid_template_rows": null,
      "height": null,
      "justify_content": null,
      "justify_items": null,
      "left": null,
      "margin": null,
      "max_height": null,
      "max_width": null,
      "min_height": null,
      "min_width": null,
      "object_fit": null,
      "object_position": null,
      "order": null,
      "overflow": null,
      "overflow_x": null,
      "overflow_y": null,
      "padding": null,
      "right": null,
      "top": null,
      "visibility": null,
      "width": null
     }
    },
    "e077d45237d4408d8db396c709145de5": {
     "model_module": "@jupyter-widgets/controls",
     "model_name": "HTMLModel",
     "state": {
      "_dom_classes": [],
      "_model_module": "@jupyter-widgets/controls",
      "_model_module_version": "1.5.0",
      "_model_name": "HTMLModel",
      "_view_count": null,
      "_view_module": "@jupyter-widgets/controls",
      "_view_module_version": "1.5.0",
      "_view_name": "HTMLView",
      "description": "",
      "description_tooltip": null,
      "layout": "IPY_MODEL_c065732967e742d8abdb15cc3c5baadd",
      "placeholder": "​",
      "style": "IPY_MODEL_ab2f1001c0e14076b1b2e6c30f7ef698",
      "value": " 15000/15000 [00:06&lt;00:00, 2320.95it/s]"
     }
    },
    "e97027d91efc4b5e81757c163ee96709": {
     "model_module": "@jupyter-widgets/controls",
     "model_name": "HBoxModel",
     "state": {
      "_dom_classes": [],
      "_model_module": "@jupyter-widgets/controls",
      "_model_module_version": "1.5.0",
      "_model_name": "HBoxModel",
      "_view_count": null,
      "_view_module": "@jupyter-widgets/controls",
      "_view_module_version": "1.5.0",
      "_view_name": "HBoxView",
      "box_style": "",
      "children": [
       "IPY_MODEL_76a7532b002d45e1998f5dc828a2f6ef",
       "IPY_MODEL_e077d45237d4408d8db396c709145de5"
      ],
      "layout": "IPY_MODEL_3bab69b5fad0490e981e854b31e22c82"
     }
    }
   }
  }
 },
 "nbformat": 4,
 "nbformat_minor": 1
}
